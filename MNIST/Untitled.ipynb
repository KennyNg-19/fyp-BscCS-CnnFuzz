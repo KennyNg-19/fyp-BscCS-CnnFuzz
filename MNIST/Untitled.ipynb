{
 "cells": [
  {
   "cell_type": "code",
   "execution_count": 25,
   "metadata": {},
   "outputs": [
    {
     "data": {
      "text/plain": [
       "[None]"
      ]
     },
     "execution_count": 25,
     "metadata": {},
     "output_type": "execute_result"
    }
   ],
   "source": [
    "import tensorflow as tf\n",
    "import numpy as np\n",
    "from keras import backend as K\n",
    "\n",
    "initial_python_list = np.arange(1,11).reshape(2, 5) \n",
    "tensor_from_list = tf.convert_to_tensor(initial_python_list)\n",
    "\n",
    "tesnor_list= [tensor_from_list, tensor_from_list]\n",
    "\n",
    "x = tf.convert_to_tensor(np.arange(2,4).reshape(1,2))\n",
    "\n",
    "grads = K.gradients(tesnor_list[0],[x])\n",
    "\n",
    "grads"
   ]
  }
 ],
 "metadata": {
  "kernelspec": {
   "display_name": "Python 3",
   "language": "python",
   "name": "python3"
  },
  "language_info": {
   "codemirror_mode": {
    "name": "ipython",
    "version": 3
   },
   "file_extension": ".py",
   "mimetype": "text/x-python",
   "name": "python",
   "nbconvert_exporter": "python",
   "pygments_lexer": "ipython3",
   "version": "3.6.3"
  }
 },
 "nbformat": 4,
 "nbformat_minor": 2
}
