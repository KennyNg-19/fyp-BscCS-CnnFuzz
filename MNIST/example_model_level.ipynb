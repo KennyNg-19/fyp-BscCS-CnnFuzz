{
 "cells": [
  {
   "cell_type": "code",
   "execution_count": 0,
   "metadata": {
    "colab": {},
    "colab_type": "code",
    "id": "jIXVj5xORy9W"
   },
   "outputs": [],
   "source": [
    "# 指定当前的工作文件夹\n",
    "import os\n",
    "\n",
    "# 此处为google drive中的文件路径,drive为之前指定的工作根目录，要加上\n",
    "os.chdir(\"drive/Colab Notebooks/DeepMutationOperators-master\") "
   ]
  },
  {
   "cell_type": "code",
   "execution_count": 0,
   "metadata": {
    "colab": {},
    "colab_type": "code",
    "id": "UBHSCRuLS5DD"
   },
   "outputs": [],
   "source": [
    "!ls"
   ]
  },
  {
   "cell_type": "code",
   "execution_count": 0,
   "metadata": {
    "colab": {},
    "colab_type": "code",
    "id": "WCASK39WQG1X"
   },
   "outputs": [],
   "source": [
    "'''\n",
    "Before usage of this API, \n",
    "please ensure the following packages are installed. \n",
    "\n",
    "Tensorflow: 1.11.0\n",
    "Keras: 2.2.4\n",
    "NumPy: 1.15.1\n",
    "\n",
    "Note that you can directly install these packages in ipython notebook\n",
    "through commands like \"!pip install tensorflow==1.11\"\n",
    "'''\n",
    "\n",
    "\n",
    "# Let's start our demestration\n",
    "# For this grid, we import some packages and utils.py\n",
    "import tensorflow as tf\n",
    "import numpy as np\n",
    "import keras \n",
    "\n",
    "import random, math\n",
    "\n",
    "# You can use the API without creating an utils instance, \n",
    "# We create an utils instance here for printing some information \n",
    "# to illustrate that our operators function correctly \n",
    "import utils\n",
    "utils = utils.GeneralUtils()"
   ]
  },
  {
   "cell_type": "code",
   "execution_count": 0,
   "metadata": {
    "colab": {},
    "colab_type": "code",
    "id": "3Ep2oCmaPvYc"
   },
   "outputs": [],
   "source": [
    ""
   ]
  },
  {
   "cell_type": "code",
   "execution_count": 0,
   "metadata": {
    "colab": {},
    "colab_type": "code",
    "id": "n-I9cnyGPY34"
   },
   "outputs": [],
   "source": [
    "# Prepare training dataset and untrained model\n",
    "# Users can their our own dataset and model\n",
    "import network \n",
    "network = network.FCNetwork()\n",
    "\n",
    "# model is a simple FC(fully-connected) neural network\n",
    "# dataset is a subset from MNIST dataset with 5000 training data and 1000 testing data\n",
    "model = network.create_normal_FC_model()\n",
    "(train_datas, train_labels), (test_datas, test_labels) = network.load_data()\n",
    "\n",
    "print('train_datas shape:', train_datas.shape)\n",
    "print('train_labels shape:', train_labels.shape)\n",
    "print('test_datas shape:', test_datas.shape)\n",
    "print('test_labels shape:', test_labels.shape)"
   ]
  },
  {
   "cell_type": "code",
   "execution_count": 0,
   "metadata": {
    "colab": {},
    "colab_type": "code",
    "id": "vNyFY4jiPY38"
   },
   "outputs": [],
   "source": [
    "# Compile and train our example model\n",
    "model = network.compile_model(model)\n",
    "model = network.train_model(model, train_datas, train_labels)\n",
    "\n",
    "# Let's print the accurancy of our example model to see whether it's trained \n",
    "# You should see accurancy around 92%\n",
    "network.evaluate_model(model, test_datas, test_labels)"
   ]
  },
  {
   "cell_type": "code",
   "execution_count": 0,
   "metadata": {
    "colab": {},
    "colab_type": "code",
    "id": "_ghIBiF7PY3_"
   },
   "outputs": [],
   "source": [
    "# Create an instance of model-level mutation operators API\n",
    "import model_mut_operators\n",
    "model_mut_opts = model_mut_operators.ModelMutationOperators()"
   ]
  },
  {
   "cell_type": "code",
   "execution_count": 0,
   "metadata": {
    "colab": {},
    "colab_type": "code",
    "id": "8HLi4SYpPY4C"
   },
   "outputs": [],
   "source": [
    "# GF (Gaussian Fuzzing), see https://github.com/KuoTzu-yang/DeepMutation for more explanation\n",
    "# Notice you should re-compile the mutated model \n",
    "mutation_ratio = 0.1\n",
    "STD=0.2\n",
    "GF_model = model_mut_opts.GF_mut(model, mutation_ratio, STD=STD)\n",
    "GF_model = network.compile_model(GF_model)"
   ]
  },
  {
   "cell_type": "code",
   "execution_count": 0,
   "metadata": {
    "colab": {},
    "colab_type": "code",
    "id": "4X7wmkaUPY4F"
   },
   "outputs": [],
   "source": [
    "'''\n",
    "Let's evaluate the performance of the mutated model compared to the original model. \n",
    "Either increase of mutation_ratio or STD will give rise to a decrease in accuracy, which is consistent with our expectation.  \n",
    "You can turn the value of mutation_ratio and STD to observe the difference of accuracy via the print function. \n",
    "'''\n",
    "utils.print_messages_MMM_generators('GF', network=network, test_datas=test_datas, test_labels=test_labels, model=model, mutated_model=GF_model, STD=STD, mutation_ratio=mutation_ratio) "
   ]
  },
  {
   "cell_type": "code",
   "execution_count": 0,
   "metadata": {
    "colab": {},
    "colab_type": "code",
    "id": "h1D_uFiUPY4I"
   },
   "outputs": [],
   "source": [
    "'''\n",
    "WS (Weight Shuffling), see https://github.com/KuoTzu-yang/DeepMutation for more explanation\n",
    "Users should re-compile the mutated model. \n",
    "For WS, we simply demostrate the usage of WS mutation operator. \n",
    "'''\n",
    "mutation_ratio = 0.1\n",
    "WS_model = model_mut_opts.WS_mut(model, mutation_ratio)\n",
    "WS_model = network.compile_model(WS_model)"
   ]
  },
  {
   "cell_type": "code",
   "execution_count": 0,
   "metadata": {
    "colab": {},
    "colab_type": "code",
    "id": "NrvEduIVPY4K"
   },
   "outputs": [],
   "source": [
    "'''\n",
    "NEB (Neuron Effect Block), see https://github.com/KuoTzu-yang/DeepMutation for more explanation\n",
    "Users should re-compile the mutated model. \n",
    "For NEB, we simply demostrate the usage of NEB mutation operator. \n",
    "'''\n",
    "mutation_ratio = 0.1\n",
    "NEB_model = model_mut_opts.NEB_mut(model, mutation_ratio)\n",
    "NEB_model = network.compile_model(NEB_model)"
   ]
  },
  {
   "cell_type": "code",
   "execution_count": 0,
   "metadata": {
    "colab": {},
    "colab_type": "code",
    "id": "yg5WV9mTPY4N"
   },
   "outputs": [],
   "source": [
    "'''\n",
    "NAI (Neuron Activation Inverse), see https://github.com/KuoTzu-yang/DeepMutation for more explanation\n",
    "Users should re-compile the mutated model. \n",
    "For NAI, we simply demostrate the usage of NAI mutation operator. \n",
    "'''\n",
    "mutation_ratio = 0.1\n",
    "NAI_model = model_mut_opts.NAI_mut(model, mutation_ratio)\n",
    "NAI_model = network.compile_model(NAI_model)"
   ]
  },
  {
   "cell_type": "code",
   "execution_count": 0,
   "metadata": {
    "colab": {},
    "colab_type": "code",
    "id": "Gmd0zDhaPY4P"
   },
   "outputs": [],
   "source": [
    "'''\n",
    "NS (Neuron Switch), see https://github.com/KuoTzu-yang/DeepMutation for more explanation\n",
    "Users should re-compile the mutated model. \n",
    "For NS, we simply demostrate the usage of NS mutation operator. \n",
    "'''\n",
    "mutation_ratio = 0.1\n",
    "NS_model = model_mut_opts.NS_mut(model, mutation_ratio)\n",
    "NS_model = network.compile_model(NS_model)"
   ]
  },
  {
   "cell_type": "code",
   "execution_count": 0,
   "metadata": {
    "colab": {},
    "colab_type": "code",
    "id": "9XmHr78hPY4S"
   },
   "outputs": [],
   "source": [
    "'''\n",
    "LD (Layer Deactivation), see https://github.com/KuoTzu-yang/DeepMutation for more explanation\n",
    "Users should re-compile the mutated model. \n",
    "'''\n",
    "LD_model = model_mut_opts.LD_mut(model)\n",
    "LD_model = network.compile_model(LD_model)\n",
    "utils.print_messages_MMM_generators('LD', network=network, test_datas=test_datas, test_labels=test_labels, model=model, mutated_model=LD_model) \n"
   ]
  },
  {
   "cell_type": "code",
   "execution_count": 0,
   "metadata": {
    "colab": {},
    "colab_type": "code",
    "id": "IqWzJW-ePY4W"
   },
   "outputs": [],
   "source": [
    "'''\n",
    "LAm (Layer Addition for model-level), see https://github.com/KuoTzu-yang/DeepMutation for more explanation\n",
    "Users should re-compile the mutated model. \n",
    "'''\n",
    "LAm_model = model_mut_opts.LAm_mut(model)\n",
    "LAm_model = network.compile_model(LAm_model)\n",
    "utils.print_messages_MMM_generators('LAm', network=network, test_datas=test_datas, test_labels=test_labels, model=model, mutated_model=LAm_model) \n"
   ]
  },
  {
   "cell_type": "code",
   "execution_count": 0,
   "metadata": {
    "colab": {},
    "colab_type": "code",
    "id": "sogE_H5RPY4Y"
   },
   "outputs": [],
   "source": [
    "'''\n",
    "AFRm (Activation Function Removal for model-level), see https://github.com/KuoTzu-yang/DeepMutation for more explanation\n",
    "Users should re-compile the mutated model. \n",
    "'''\n",
    "AFRm_model = model_mut_opts.AFRm_mut(model)\n",
    "AFRm_model = network.compile_model(AFRm_model)\n",
    "utils.print_messages_MMM_generators('AFRm', network=network, test_datas=test_datas, test_labels=test_labels, model=model, mutated_model=AFRm_model) \n"
   ]
  },
  {
   "cell_type": "code",
   "execution_count": 0,
   "metadata": {
    "colab": {},
    "colab_type": "code",
    "id": "j7UVtPe7PY4b"
   },
   "outputs": [],
   "source": [
    ""
   ]
  },
  {
   "cell_type": "code",
   "execution_count": 0,
   "metadata": {
    "colab": {},
    "colab_type": "code",
    "id": "zYZTk1E9QARp"
   },
   "outputs": [],
   "source": [
    ""
   ]
  }
 ],
 "metadata": {
  "accelerator": "TPU",
  "colab": {
   "collapsed_sections": [],
   "name": "example_model_level.ipynb",
   "private_outputs": true,
   "provenance": [],
   "version": "0.3.2"
  },
  "kernelspec": {
   "display_name": "Python 3",
   "name": "python3"
  }
 },
 "nbformat": 4,
 "nbformat_minor": 0
}
