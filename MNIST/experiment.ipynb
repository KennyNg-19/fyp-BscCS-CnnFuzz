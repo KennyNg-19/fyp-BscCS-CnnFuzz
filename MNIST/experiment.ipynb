{
 "cells": [
  {
   "cell_type": "code",
   "execution_count": 9,
   "metadata": {},
   "outputs": [],
   "source": [
    "import os\n",
    "import tarfile\n",
    "\n",
    "def recursive_files(dir_name='.', ignore=None):\n",
    "    for dir_name,subdirs,files in os.walk(dir_name):\n",
    "        if ignore and os.path.basename(dir_name) in ignore: \n",
    "            continue\n",
    "\n",
    "        for file_name in files:\n",
    "            if ignore and file_name in ignore:\n",
    "                continue\n",
    "\n",
    "            yield os.path.join(dir_name, file_name)\n",
    "\n",
    "def make_tar_file(dir_name='.', tar_file_name='tarfile.tar', ignore=None):\n",
    "    tar = tarfile.open(tar_file_name, 'w')\n",
    "\n",
    "    for file_name in recursive_files(dir_name, ignore):\n",
    "        tar.add(file_name)\n",
    "\n",
    "    tar.close()\n",
    "\n",
    "\n",
    "dir_name = '.'\n",
    "tar_file_name = 'MNIST.tar'\n",
    "make_tar_file(dir_name, tar_file_name, ignore)"
   ]
  },
  {
   "cell_type": "code",
   "execution_count": 1,
   "metadata": {
    "colab": {},
    "colab_type": "code",
    "id": "F32yHt-63SpS"
   },
   "outputs": [
    {
     "name": "stderr",
     "output_type": "stream",
     "text": [
      "Using TensorFlow backend.\n"
     ]
    },
    {
     "name": "stdout",
     "output_type": "stream",
     "text": [
      "Shuffle train_datas and test_datas.\n",
      "\n",
      "Extract: training 5000 + testing 1000\n",
      "train_datas shape: (5000, 28, 28, 1)\n",
      "test_datas shape: (1000, 28, 28, 1)\n",
      "train_labels shape: (5000, 10)\n",
      "test_labels shape: (1000, 10)\n"
     ]
    }
   ],
   "source": [
    "# Basic setup & Import related modules \n",
    "import tensorflow as tf \n",
    "import numpy as np\n",
    "import keras\n",
    "import matplotlib.pyplot as plt\n",
    "import random, math\n",
    "\n",
    "plt.rcParams['image.interpolation'] = 'nearest'\n",
    "plt.rcParams['image.cmap'] = 'gray'\n",
    "\n",
    "# storage\n",
    "import os\n",
    "from cv2 import imwrite\n",
    "from datetime import datetime\n",
    "\n",
    "save_dir = './seeds/'\n",
    "\n",
    "if os.path.exists(save_dir):\n",
    "    for i in os.listdir(save_dir):\n",
    "        path_file = os.path.join(save_dir, i)\n",
    "        if os.path.isfile(path_file):\n",
    "            os.remove(path_file)\n",
    "\n",
    "# if storage dir not exists\n",
    "if not os.path.exists(save_dir):\n",
    "    os.makedirs(save_dir)\n",
    "\n",
    "import utils, network, source_mut_operators \n",
    "utils = utils.GeneralUtils()\n",
    "network = network.CNNNetwork() #\n",
    "source_mut_opts = source_mut_operators.SourceMutationOperators()\n",
    " \n",
    "(train_datas, train_labels), (test_datas, test_labels) = network.load_and_preprocess_data() # randomly pick data and do normalization：[0,255] -> [0,1] \n",
    "\n",
    "print('train_datas shape:', train_datas.shape)\n",
    "print('test_datas shape:', test_datas.shape)\n",
    "print('train_labels shape:', train_labels.shape)\n",
    "print('test_labels shape:', test_labels.shape)\n",
    "\n",
    "mutation_ratios = [i*0.05 + 0.05 for i in range(5,8)]\n",
    "\n",
    "mutant_accuracy_control_threshold = [0.92 for i in mutation_ratios if i < 0.5] + [0.88 for i in mutation_ratios if i >= 0.5]\n",
    "\n",
    "# initialize as an empty numpy array \n",
    "gen_test_cases = np.zeros(train_datas.shape)\n",
    "gen_test_cases = np.delete(gen_test_cases, slice(0, gen_test_cases.shape[0]), axis=0) # remove the all the lines, only keeps the shape (0, 32, 32, 1)\n",
    "total_test_cases_num = 0\n",
    "difference_indexes = [] # a set for all differences among different operators \n",
    "difference_scores = []\n",
    "counter = 0"
   ]
  },
  {
   "cell_type": "code",
   "execution_count": 14,
   "metadata": {},
   "outputs": [
    {
     "name": "stdout",
     "output_type": "stream",
     "text": [
      "in LeNet-4 input_tensor =  Tensor(\"input_8:0\", shape=(?, 28, 28, 1), dtype=float32)\n",
      "Model2: LeNet-4 loaded\n"
     ]
    }
   ],
   "source": [
    "# load model\n",
    "# normal FC model, not CNN \n",
    "# model = network.create_normal_FC_model()\n",
    "from keras.layers import Input\n",
    "from Model1 import Model1\n",
    "from Model2 import Model2\n",
    "from Model3 import Model3\n",
    "import sys\n",
    "\n",
    "input_tensor = Input(shape=(28,28,1))\n",
    "# create_CNN_model_1(): LeNet 5\n",
    "# way1:\n",
    "# model = network.create_CNN_model_1()\n",
    "\n",
    "# way2 : don't work\n",
    "# model = network.load_model('Model3.h5')\n",
    "\n",
    "# way3:\n",
    "\n",
    "# model_name = sys.argv[6]\n",
    "# if model_name == 'model1':\n",
    "#     model = Model1(input_tensor=input_tensor)\n",
    "    \n",
    "# elif model_name == 'model2':\n",
    "model = Model2(input_tensor=input_tensor)\n",
    "    \n",
    "# elif model_name == 'model3':\n",
    "#     model = Model3(input_tensor=input_tensor)\n",
    "    \n",
    "# else:\n",
    "#     print('please specify model name')\n",
    "#     os._exit(0)\n",
    "\n"
   ]
  },
  {
   "cell_type": "code",
   "execution_count": 6,
   "metadata": {
    "colab": {
     "base_uri": "https://localhost:8080/",
     "height": 84
    },
    "colab_type": "code",
    "executionInfo": {
     "elapsed": 3032,
     "status": "ok",
     "timestamp": 1552147167507,
     "user": {
      "displayName": "yh wu",
      "photoUrl": "",
      "userId": "11025832306997972186"
     },
     "user_tz": 0
    },
    "id": "hXfE0LpJ3O8N",
    "outputId": "02225734-3660-4d0d-a476-65cc16411fcd"
   },
   "outputs": [],
   "source": [
    "# initialize as an empty numpy array\n",
    "def initialize_before_each_mutation():\n",
    "    global gen_test_cases \n",
    "    gen_test_cases = np.delete(gen_test_cases, slice(0, gen_test_cases.shape[0]), axis=0) # remove the all the lines, only keeps the shape (0, 28, 28, 1)\n",
    "    global difference_indexes \n",
    "    difference_indexes = [] # a set for all differences among different operators\n",
    "    global difference_scores\n",
    "    difference_scores = []\n",
    "    global counter \n",
    "    counter = 0\n",
    "    \n",
    "def deprocess_image(x):\n",
    "    # de-normalization: [0,1] -> [0,255]     \n",
    "    x *= 255\n",
    "    if x.shape == (32,32,1):\n",
    "        return x.squeeze()[0+2:31-1,0+2:31-1] #  indexing:[2:30], np.squeeze will remove single dimension: (32,32,1)-> (28,28)\n",
    "    # (784,0)\n",
    "    elif x.shape == (28,28,1):\n",
    "        return x.reshape(28,28) #  for one test_case,original shape (784,)\n",
    "    else:\n",
    "        print('sth wrong...')\n",
    "        return\n",
    "\n",
    "def np_unique_without_sorting(a, axis):\n",
    "    _, idx = np.unique(a, axis, return_index=True)\n",
    "    return a[np.sort(idx)]\n",
    "\n",
    "def remove_duplicate_without_sorting(seq): \n",
    "   # order preserving\n",
    "   noDupes = []\n",
    "   [noDupes.append(i) for i in seq if not noDupes.count(i)]\n",
    "   return noDupes\n",
    "\n",
    "# store test cases in to local folder\n",
    "# difficult: correspondences exist between test cases and their respecitve real labels\n",
    "def store_test_cases(mutation_name, difference_indexes, right_labels, gen_test_cases):\n",
    "    difference_indexes = remove_duplicate_without_sorting(difference_indexes)\n",
    "    for index, test_case in enumerate(gen_test_cases):\n",
    "        imwrite('%s%d_%d.png' % (save_dir + mutation_name, index + 1, right_labels[difference_indexes[index]]), deprocess_image(test_case))\n",
    "        \n",
    "\n",
    "def run_operator(mutation_ratios, operator_name, model, train_dataset, test_datas, test_labels,\n",
    "                 AFRs_mutated_layer_indices = None,\n",
    "                 GF_prob_distribution = 'normal', GF_layers_indices=None):\n",
    "    # initialize as an empty numpy array\n",
    "    initialize_before_each_mutation()\n",
    "    \n",
    "    global gen_test_cases     \n",
    "    global difference_indexes     \n",
    "    global difference_scores    \n",
    "    global counter \n",
    "    global total_test_cases_num\n",
    "    right_labels = np.argmax(test_labels, axis=1) # right answers\n",
    "    \n",
    "    print(\"\\n-----------------------------\" + operator_name + \" mutation operator-----------------------------\")\n",
    "    for mutation_ratio in mutation_ratios:\n",
    "        if operator_name == 'DR':\n",
    "            (mutated_datas, mutated_labels), mutated_model = source_mut_opts.DR_mut(train_dataset, model, mutation_ratio)\n",
    "        elif operator_name == 'LE':\n",
    "            lower_bound = 0\n",
    "            upper_bound = 9\n",
    "            (mutated_datas, mutated_labels), mutated_model = source_mut_opts.LE_mut(train_dataset, model, lower_bound, upper_bound, mutation_ratio)\n",
    "        elif operator_name == 'DM':\n",
    "            (mutated_datas, mutated_labels), mutated_model = source_mut_opts.DM_mut(train_dataset, model, mutation_ratio)\n",
    "        elif operator_name == 'DF':\n",
    "            (mutated_datas, mutated_labels), mutated_model = source_mut_opts.DF_mut(train_dataset, model, mutation_ratio)\n",
    "        elif operator_name == 'NP':\n",
    "            STD = 5\n",
    "            (mutated_datas, mutated_labels), mutated_model = source_mut_opts.NP_mut(train_dataset, model, mutation_ratio, STD=STD)\n",
    "#         elif operator_name == 'LR':\n",
    "#             mutated_layer_indices = None\n",
    "#             (mutated_datas, mutated_labels), mutated_model = source_mut_opts.LR_mut(train_dataset, model, mutated_layer_indices=mutated_layer_indices)\n",
    "#         elif operator_name == 'LAs':\n",
    "#             mutated_layer_indices = None\n",
    "#             (mutated_datas, mutated_labels), mutated_model = source_mut_opts.LAs_mut(train_dataset, model, mutated_layer_indices=mutated_layer_indices)\n",
    "        elif operator_name == 'AFRs':\n",
    "            mutated_layer_indices = AFRs_mutated_layer_indices\n",
    "            (mutated_datas, mutated_labels), mutated_model = source_mut_opts.AFRs_mut(train_dataset, model, mutated_layer_indices=mutated_layer_indices)\n",
    "        else:\n",
    "            print(\"Input is not a valid operator mode\")\n",
    "            return\n",
    "        \n",
    "        # compile model        \n",
    "        model = network.compile_model(model)\n",
    "        mutated_model = network.compile_model(mutated_model)\n",
    "        \n",
    "        # train model\n",
    "        trained_model = network.train_model(model, train_datas, train_labels)\n",
    "        trained_mutated_model = network.train_model(mutated_model, mutated_datas, mutated_labels)\n",
    "\n",
    "        # quality control of mutant model\n",
    "        mutant_loss, mutant_acc = trained_mutated_model.evaluate(test_datas, test_labels, verbose=False)\n",
    "        if mutant_acc < mutant_accuracy_control_threshold[counter]:\n",
    "          counter += 1\n",
    "          difference_scores.append(0)\n",
    "          print(\"{0}th mutant behaves badly, with acc {1:.2%} and mutation ratio {2:.3f}, will be dropped out\\n\".format(counter, mutant_acc, mutation_ratio))\n",
    "          continue\n",
    "        print(\"{0}th mutant passes the quality test, with acc {1:.2%} and mutation ratio {2:.3f}\".format(counter + 1, mutant_acc, mutation_ratio))\n",
    "\n",
    "        # test the mutated model         \n",
    "        mutant_predi_labels = np.argmax(trained_mutated_model.predict(test_datas), axis = 1)\n",
    "        \n",
    "        # compare the test reasults with correct result \n",
    "        #  np.nonzero(right_labels-mutant_predi_labels) is a tuple with only one element: the [0],a numpy array\n",
    "        difference_indexes = difference_indexes + list(np.nonzero(right_labels-mutant_predi_labels)[0]) \n",
    "        difference_score = len(difference_indexes) / right_labels.size \n",
    "        difference_scores.append(difference_score) \n",
    "\n",
    "        \n",
    "        print(\" difference ratio: %.3f  with mutation ratio: %.2f\" % (difference_score, mutation_ratio))\n",
    "        prev_gen_test_cases = gen_test_cases\n",
    "        additional_test_cases = test_datas[np.nonzero(right_labels-mutant_predi_labels)[0]]\n",
    "        concat_test_cases = np.append(gen_test_cases, additional_test_cases,axis = 0)      \n",
    "        _, idx = np.unique(concat_test_cases, axis = 0, return_index=True)\n",
    "        gen_test_cases = concat_test_cases[np.sort(idx)]\n",
    "\n",
    "        counter += 1\n",
    "        print(\" new test cases + %d\\n\" % (gen_test_cases.shape[0] - prev_gen_test_cases.shape[0]))\n",
    "        # end of loop\n",
    "        \n",
    "    plt.title(operator_name + ' mutation deferences')\n",
    "    plt.axis([mutation_ratios[0], mutation_ratios[-1], 0, 0.1])\n",
    "    plt.plot(mutation_ratios, difference_scores)\n",
    "    plt.xlabel('Mutation ratio')\n",
    "    plt.ylabel('Differences')\n",
    "    plt.show()\n",
    "\n",
    "    # save the test cases causing differences    \n",
    "    store_test_cases(operator_name, difference_indexes, right_labels, gen_test_cases)\n",
    "    total_test_cases_num += gen_test_cases.shape[0]\n",
    "    print(\"now %d test cases are saved\\n\" % total_test_cases_num)   \n",
    "        "
   ]
  },
  {
   "cell_type": "code",
   "execution_count": 15,
   "metadata": {
    "colab": {
     "base_uri": "https://localhost:8080/",
     "height": 101
    },
    "colab_type": "code",
    "executionInfo": {
     "elapsed": 120335,
     "status": "ok",
     "timestamp": 1552147284827,
     "user": {
      "displayName": "yh wu",
      "photoUrl": "",
      "userId": "11025832306997972186"
     },
     "user_tz": 0
    },
    "id": "i8JVJ6d53O8e",
    "outputId": "3d966c5c-6119-4b9e-c1e5-d1832f5e92d1"
   },
   "outputs": [
    {
     "name": "stdout",
     "output_type": "stream",
     "text": [
      "\n",
      "-----------------------------DR mutation operator-----------------------------\n",
      "ramdomly repeat 1500 training datasets, totally 6500\n",
      "1th mutant passes the quality test, with acc 98.30% and mutation ratio 0.300\n",
      " difference ratio: 0.017  with mutation ratio: 0.30\n",
      " new test cases + 17\n",
      "\n",
      "ramdomly repeat 1750 training datasets, totally 6750\n",
      "2th mutant passes the quality test, with acc 98.40% and mutation ratio 0.350\n",
      " difference ratio: 0.033  with mutation ratio: 0.35\n",
      " new test cases + 3\n",
      "\n",
      "ramdomly repeat 2000 training datasets, totally 7000\n",
      "3th mutant passes the quality test, with acc 98.30% and mutation ratio 0.400\n",
      " difference ratio: 0.050  with mutation ratio: 0.40\n",
      " new test cases + 5\n",
      "\n"
     ]
    },
    {
     "data": {
      "image/png": "[encoded data removed]",
      "text/plain": [
       "<Figure size 432x288 with 1 Axes>"
      ]
     },
     "metadata": {},
     "output_type": "display_data"
    },
    {
     "name": "stdout",
     "output_type": "stream",
     "text": [
      "now 25 test cases are saved\n",
      "\n"
     ]
    }
   ],
   "source": [
    "# 1. DR (Data Repetition)\n",
    "run_operator(mutation_ratios, \"DR\", model, (train_datas, train_labels), test_datas, test_labels)"
   ]
  },
  {
   "cell_type": "code",
   "execution_count": 16,
   "metadata": {
    "colab": {
     "base_uri": "https://localhost:8080/",
     "height": 67
    },
    "colab_type": "code",
    "executionInfo": {
     "elapsed": 229815,
     "status": "ok",
     "timestamp": 1552147394347,
     "user": {
      "displayName": "yh wu",
      "photoUrl": "",
      "userId": "11025832306997972186"
     },
     "user_tz": 0
    },
    "id": "DZu3KuDc3O84",
    "outputId": "7eb1f86a-74ac-4257-98fe-981b25f4bc5c"
   },
   "outputs": [
    {
     "name": "stdout",
     "output_type": "stream",
     "text": [
      "\n",
      "-----------------------------LE mutation operator-----------------------------\n",
      "ramdomly falsify 1500 training datasets' labels: now 3500 correct labels\n",
      "1th mutant behaves badly, with acc 79.40% and mutation ratio 0.300, will be dropped out\n",
      "\n",
      "ramdomly falsify 1750 training datasets' labels: now 3250 correct labels\n",
      "2th mutant behaves badly, with acc 70.90% and mutation ratio 0.350, will be dropped out\n",
      "\n",
      "ramdomly falsify 2000 training datasets' labels: now 3000 correct labels\n"
     ]
    },
    {
     "ename": "KeyboardInterrupt",
     "evalue": "",
     "output_type": "error",
     "traceback": [
      "\u001b[0;31m---------------------------------------------------------------------------\u001b[0m",
      "\u001b[0;31mKeyboardInterrupt\u001b[0m                         Traceback (most recent call last)",
      "\u001b[0;32m<ipython-input-16-e84f599c5add>\u001b[0m in \u001b[0;36m<module>\u001b[0;34m()\u001b[0m\n\u001b[1;32m      1\u001b[0m \u001b[0;31m# 2. LE (Label Error)\u001b[0m\u001b[0;34m\u001b[0m\u001b[0;34m\u001b[0m\u001b[0m\n\u001b[0;32m----> 2\u001b[0;31m \u001b[0mrun_operator\u001b[0m\u001b[0;34m(\u001b[0m\u001b[0mmutation_ratios\u001b[0m\u001b[0;34m,\u001b[0m \u001b[0;34m\"LE\"\u001b[0m\u001b[0;34m,\u001b[0m \u001b[0mmodel\u001b[0m\u001b[0;34m,\u001b[0m \u001b[0;34m(\u001b[0m\u001b[0mtrain_datas\u001b[0m\u001b[0;34m,\u001b[0m \u001b[0mtrain_labels\u001b[0m\u001b[0;34m)\u001b[0m\u001b[0;34m,\u001b[0m \u001b[0mtest_datas\u001b[0m\u001b[0;34m,\u001b[0m \u001b[0mtest_labels\u001b[0m\u001b[0;34m)\u001b[0m\u001b[0;34m\u001b[0m\u001b[0m\n\u001b[0m",
      "\u001b[0;32m<ipython-input-6-f6e02638a1f9>\u001b[0m in \u001b[0;36mrun_operator\u001b[0;34m(mutation_ratios, operator_name, model, train_dataset, test_datas, test_labels, AFRs_mutated_layer_indices, GF_prob_distribution, GF_layers_indices)\u001b[0m\n\u001b[1;32m     86\u001b[0m \u001b[0;34m\u001b[0m\u001b[0m\n\u001b[1;32m     87\u001b[0m         \u001b[0;31m# train model\u001b[0m\u001b[0;34m\u001b[0m\u001b[0;34m\u001b[0m\u001b[0m\n\u001b[0;32m---> 88\u001b[0;31m         \u001b[0mtrained_model\u001b[0m \u001b[0;34m=\u001b[0m \u001b[0mnetwork\u001b[0m\u001b[0;34m.\u001b[0m\u001b[0mtrain_model\u001b[0m\u001b[0;34m(\u001b[0m\u001b[0mmodel\u001b[0m\u001b[0;34m,\u001b[0m \u001b[0mtrain_datas\u001b[0m\u001b[0;34m,\u001b[0m \u001b[0mtrain_labels\u001b[0m\u001b[0;34m)\u001b[0m\u001b[0;34m\u001b[0m\u001b[0m\n\u001b[0m\u001b[1;32m     89\u001b[0m         \u001b[0mtrained_mutated_model\u001b[0m \u001b[0;34m=\u001b[0m \u001b[0mnetwork\u001b[0m\u001b[0;34m.\u001b[0m\u001b[0mtrain_model\u001b[0m\u001b[0;34m(\u001b[0m\u001b[0mmutated_model\u001b[0m\u001b[0;34m,\u001b[0m \u001b[0mmutated_datas\u001b[0m\u001b[0;34m,\u001b[0m \u001b[0mmutated_labels\u001b[0m\u001b[0;34m)\u001b[0m\u001b[0;34m\u001b[0m\u001b[0m\n\u001b[1;32m     90\u001b[0m \u001b[0;34m\u001b[0m\u001b[0m\n",
      "\u001b[0;32m~/prs/workspace/network.py\u001b[0m in \u001b[0;36mtrain_model\u001b[0;34m(self, model, train_datas, train_labels, name_of_file, epochs, batch_size, verbose, with_checkpoint)\u001b[0m\n\u001b[1;32m    290\u001b[0m             \u001b[0mmodel\u001b[0m\u001b[0;34m.\u001b[0m\u001b[0mfit\u001b[0m\u001b[0;34m(\u001b[0m\u001b[0mtrain_datas\u001b[0m\u001b[0;34m,\u001b[0m \u001b[0mtrain_labels\u001b[0m\u001b[0;34m,\u001b[0m \u001b[0mepochs\u001b[0m\u001b[0;34m=\u001b[0m\u001b[0mepochs\u001b[0m\u001b[0;34m,\u001b[0m \u001b[0mbatch_size\u001b[0m\u001b[0;34m=\u001b[0m\u001b[0mbatch_size\u001b[0m\u001b[0;34m,\u001b[0m \u001b[0mcallbacks\u001b[0m\u001b[0;34m=\u001b[0m\u001b[0mcallbacks_list\u001b[0m\u001b[0;34m,\u001b[0m \u001b[0mverbose\u001b[0m\u001b[0;34m=\u001b[0m\u001b[0mverbose\u001b[0m\u001b[0;34m)\u001b[0m\u001b[0;34m\u001b[0m\u001b[0m\n\u001b[1;32m    291\u001b[0m         \u001b[0;32melse\u001b[0m\u001b[0;34m:\u001b[0m\u001b[0;34m\u001b[0m\u001b[0m\n\u001b[0;32m--> 292\u001b[0;31m             \u001b[0mmodel\u001b[0m\u001b[0;34m.\u001b[0m\u001b[0mfit\u001b[0m\u001b[0;34m(\u001b[0m\u001b[0mtrain_datas\u001b[0m\u001b[0;34m,\u001b[0m \u001b[0mtrain_labels\u001b[0m\u001b[0;34m,\u001b[0m \u001b[0mepochs\u001b[0m\u001b[0;34m=\u001b[0m\u001b[0mepochs\u001b[0m\u001b[0;34m,\u001b[0m \u001b[0mbatch_size\u001b[0m\u001b[0;34m=\u001b[0m\u001b[0mbatch_size\u001b[0m\u001b[0;34m,\u001b[0m \u001b[0mcallbacks\u001b[0m\u001b[0;34m=\u001b[0m\u001b[0;32mNone\u001b[0m\u001b[0;34m,\u001b[0m \u001b[0mverbose\u001b[0m\u001b[0;34m=\u001b[0m\u001b[0mverbose\u001b[0m\u001b[0;34m)\u001b[0m\u001b[0;34m\u001b[0m\u001b[0m\n\u001b[0m\u001b[1;32m    293\u001b[0m         \u001b[0;32mreturn\u001b[0m \u001b[0mmodel\u001b[0m\u001b[0;34m\u001b[0m\u001b[0m\n\u001b[1;32m    294\u001b[0m \u001b[0;34m\u001b[0m\u001b[0m\n",
      "\u001b[0;32m~/var/python/lib/python3.6/site-packages/keras/engine/training.py\u001b[0m in \u001b[0;36mfit\u001b[0;34m(self, x, y, batch_size, epochs, verbose, callbacks, validation_split, validation_data, shuffle, class_weight, sample_weight, initial_epoch, steps_per_epoch, validation_steps, **kwargs)\u001b[0m\n\u001b[1;32m   1037\u001b[0m                                         \u001b[0minitial_epoch\u001b[0m\u001b[0;34m=\u001b[0m\u001b[0minitial_epoch\u001b[0m\u001b[0;34m,\u001b[0m\u001b[0;34m\u001b[0m\u001b[0m\n\u001b[1;32m   1038\u001b[0m                                         \u001b[0msteps_per_epoch\u001b[0m\u001b[0;34m=\u001b[0m\u001b[0msteps_per_epoch\u001b[0m\u001b[0;34m,\u001b[0m\u001b[0;34m\u001b[0m\u001b[0m\n\u001b[0;32m-> 1039\u001b[0;31m                                         validation_steps=validation_steps)\n\u001b[0m\u001b[1;32m   1040\u001b[0m \u001b[0;34m\u001b[0m\u001b[0m\n\u001b[1;32m   1041\u001b[0m     def evaluate(self, x=None, y=None,\n",
      "\u001b[0;32m~/var/python/lib/python3.6/site-packages/keras/engine/training_arrays.py\u001b[0m in \u001b[0;36mfit_loop\u001b[0;34m(model, f, ins, out_labels, batch_size, epochs, verbose, callbacks, val_f, val_ins, shuffle, callback_metrics, initial_epoch, steps_per_epoch, validation_steps)\u001b[0m\n\u001b[1;32m    197\u001b[0m                     \u001b[0mins_batch\u001b[0m\u001b[0;34m[\u001b[0m\u001b[0mi\u001b[0m\u001b[0;34m]\u001b[0m \u001b[0;34m=\u001b[0m \u001b[0mins_batch\u001b[0m\u001b[0;34m[\u001b[0m\u001b[0mi\u001b[0m\u001b[0;34m]\u001b[0m\u001b[0;34m.\u001b[0m\u001b[0mtoarray\u001b[0m\u001b[0;34m(\u001b[0m\u001b[0;34m)\u001b[0m\u001b[0;34m\u001b[0m\u001b[0m\n\u001b[1;32m    198\u001b[0m \u001b[0;34m\u001b[0m\u001b[0m\n\u001b[0;32m--> 199\u001b[0;31m                 \u001b[0mouts\u001b[0m \u001b[0;34m=\u001b[0m \u001b[0mf\u001b[0m\u001b[0;34m(\u001b[0m\u001b[0mins_batch\u001b[0m\u001b[0;34m)\u001b[0m\u001b[0;34m\u001b[0m\u001b[0m\n\u001b[0m\u001b[1;32m    200\u001b[0m                 \u001b[0mouts\u001b[0m \u001b[0;34m=\u001b[0m \u001b[0mto_list\u001b[0m\u001b[0;34m(\u001b[0m\u001b[0mouts\u001b[0m\u001b[0;34m)\u001b[0m\u001b[0;34m\u001b[0m\u001b[0m\n\u001b[1;32m    201\u001b[0m                 \u001b[0;32mfor\u001b[0m \u001b[0ml\u001b[0m\u001b[0;34m,\u001b[0m \u001b[0mo\u001b[0m \u001b[0;32min\u001b[0m \u001b[0mzip\u001b[0m\u001b[0;34m(\u001b[0m\u001b[0mout_labels\u001b[0m\u001b[0;34m,\u001b[0m \u001b[0mouts\u001b[0m\u001b[0;34m)\u001b[0m\u001b[0;34m:\u001b[0m\u001b[0;34m\u001b[0m\u001b[0m\n",
      "\u001b[0;32m~/var/python/lib/python3.6/site-packages/keras/backend/tensorflow_backend.py\u001b[0m in \u001b[0;36m__call__\u001b[0;34m(self, inputs)\u001b[0m\n\u001b[1;32m   2719\u001b[0m                     \u001b[0;34m'In order to feed symbolic tensors to a Keras model '\u001b[0m\u001b[0;34m\u001b[0m\u001b[0m\n\u001b[1;32m   2720\u001b[0m                     'in TensorFlow, you need tensorflow 1.8 or higher.')\n\u001b[0;32m-> 2721\u001b[0;31m             \u001b[0;32mreturn\u001b[0m \u001b[0mself\u001b[0m\u001b[0;34m.\u001b[0m\u001b[0m_legacy_call\u001b[0m\u001b[0;34m(\u001b[0m\u001b[0minputs\u001b[0m\u001b[0;34m)\u001b[0m\u001b[0;34m\u001b[0m\u001b[0m\n\u001b[0m\u001b[1;32m   2722\u001b[0m \u001b[0;34m\u001b[0m\u001b[0m\n\u001b[1;32m   2723\u001b[0m \u001b[0;34m\u001b[0m\u001b[0m\n",
      "\u001b[0;32m~/var/python/lib/python3.6/site-packages/keras/backend/tensorflow_backend.py\u001b[0m in \u001b[0;36m_legacy_call\u001b[0;34m(self, inputs)\u001b[0m\n\u001b[1;32m   2691\u001b[0m         \u001b[0msession\u001b[0m \u001b[0;34m=\u001b[0m \u001b[0mget_session\u001b[0m\u001b[0;34m(\u001b[0m\u001b[0;34m)\u001b[0m\u001b[0;34m\u001b[0m\u001b[0m\n\u001b[1;32m   2692\u001b[0m         updated = session.run(fetches=fetches, feed_dict=feed_dict,\n\u001b[0;32m-> 2693\u001b[0;31m                               **self.session_kwargs)\n\u001b[0m\u001b[1;32m   2694\u001b[0m         \u001b[0;32mreturn\u001b[0m \u001b[0mupdated\u001b[0m\u001b[0;34m[\u001b[0m\u001b[0;34m:\u001b[0m\u001b[0mlen\u001b[0m\u001b[0;34m(\u001b[0m\u001b[0mself\u001b[0m\u001b[0;34m.\u001b[0m\u001b[0moutputs\u001b[0m\u001b[0;34m)\u001b[0m\u001b[0;34m]\u001b[0m\u001b[0;34m\u001b[0m\u001b[0m\n\u001b[1;32m   2695\u001b[0m \u001b[0;34m\u001b[0m\u001b[0m\n",
      "\u001b[0;32m~/var/python/lib/python3.6/site-packages/tensorflow/python/client/session.py\u001b[0m in \u001b[0;36mrun\u001b[0;34m(self, fetches, feed_dict, options, run_metadata)\u001b[0m\n\u001b[1;32m    903\u001b[0m     \u001b[0;32mtry\u001b[0m\u001b[0;34m:\u001b[0m\u001b[0;34m\u001b[0m\u001b[0m\n\u001b[1;32m    904\u001b[0m       result = self._run(None, fetches, feed_dict, options_ptr,\n\u001b[0;32m--> 905\u001b[0;31m                          run_metadata_ptr)\n\u001b[0m\u001b[1;32m    906\u001b[0m       \u001b[0;32mif\u001b[0m \u001b[0mrun_metadata\u001b[0m\u001b[0;34m:\u001b[0m\u001b[0;34m\u001b[0m\u001b[0m\n\u001b[1;32m    907\u001b[0m         \u001b[0mproto_data\u001b[0m \u001b[0;34m=\u001b[0m \u001b[0mtf_session\u001b[0m\u001b[0;34m.\u001b[0m\u001b[0mTF_GetBuffer\u001b[0m\u001b[0;34m(\u001b[0m\u001b[0mrun_metadata_ptr\u001b[0m\u001b[0;34m)\u001b[0m\u001b[0;34m\u001b[0m\u001b[0m\n",
      "\u001b[0;32m~/var/python/lib/python3.6/site-packages/tensorflow/python/client/session.py\u001b[0m in \u001b[0;36m_run\u001b[0;34m(self, handle, fetches, feed_dict, options, run_metadata)\u001b[0m\n\u001b[1;32m   1135\u001b[0m     \u001b[0;32mif\u001b[0m \u001b[0mfinal_fetches\u001b[0m \u001b[0;32mor\u001b[0m \u001b[0mfinal_targets\u001b[0m \u001b[0;32mor\u001b[0m \u001b[0;34m(\u001b[0m\u001b[0mhandle\u001b[0m \u001b[0;32mand\u001b[0m \u001b[0mfeed_dict_tensor\u001b[0m\u001b[0;34m)\u001b[0m\u001b[0;34m:\u001b[0m\u001b[0;34m\u001b[0m\u001b[0m\n\u001b[1;32m   1136\u001b[0m       results = self._do_run(handle, final_targets, final_fetches,\n\u001b[0;32m-> 1137\u001b[0;31m                              feed_dict_tensor, options, run_metadata)\n\u001b[0m\u001b[1;32m   1138\u001b[0m     \u001b[0;32melse\u001b[0m\u001b[0;34m:\u001b[0m\u001b[0;34m\u001b[0m\u001b[0m\n\u001b[1;32m   1139\u001b[0m       \u001b[0mresults\u001b[0m \u001b[0;34m=\u001b[0m \u001b[0;34m[\u001b[0m\u001b[0;34m]\u001b[0m\u001b[0;34m\u001b[0m\u001b[0m\n",
      "\u001b[0;32m~/var/python/lib/python3.6/site-packages/tensorflow/python/client/session.py\u001b[0m in \u001b[0;36m_do_run\u001b[0;34m(self, handle, target_list, fetch_list, feed_dict, options, run_metadata)\u001b[0m\n\u001b[1;32m   1353\u001b[0m     \u001b[0;32mif\u001b[0m \u001b[0mhandle\u001b[0m \u001b[0;32mis\u001b[0m \u001b[0;32mNone\u001b[0m\u001b[0;34m:\u001b[0m\u001b[0;34m\u001b[0m\u001b[0m\n\u001b[1;32m   1354\u001b[0m       return self._do_call(_run_fn, self._session, feeds, fetches, targets,\n\u001b[0;32m-> 1355\u001b[0;31m                            options, run_metadata)\n\u001b[0m\u001b[1;32m   1356\u001b[0m     \u001b[0;32melse\u001b[0m\u001b[0;34m:\u001b[0m\u001b[0;34m\u001b[0m\u001b[0m\n\u001b[1;32m   1357\u001b[0m       \u001b[0;32mreturn\u001b[0m \u001b[0mself\u001b[0m\u001b[0;34m.\u001b[0m\u001b[0m_do_call\u001b[0m\u001b[0;34m(\u001b[0m\u001b[0m_prun_fn\u001b[0m\u001b[0;34m,\u001b[0m \u001b[0mself\u001b[0m\u001b[0;34m.\u001b[0m\u001b[0m_session\u001b[0m\u001b[0;34m,\u001b[0m \u001b[0mhandle\u001b[0m\u001b[0;34m,\u001b[0m \u001b[0mfeeds\u001b[0m\u001b[0;34m,\u001b[0m \u001b[0mfetches\u001b[0m\u001b[0;34m)\u001b[0m\u001b[0;34m\u001b[0m\u001b[0m\n",
      "\u001b[0;32m~/var/python/lib/python3.6/site-packages/tensorflow/python/client/session.py\u001b[0m in \u001b[0;36m_do_call\u001b[0;34m(self, fn, *args)\u001b[0m\n\u001b[1;32m   1359\u001b[0m   \u001b[0;32mdef\u001b[0m \u001b[0m_do_call\u001b[0m\u001b[0;34m(\u001b[0m\u001b[0mself\u001b[0m\u001b[0;34m,\u001b[0m \u001b[0mfn\u001b[0m\u001b[0;34m,\u001b[0m \u001b[0;34m*\u001b[0m\u001b[0margs\u001b[0m\u001b[0;34m)\u001b[0m\u001b[0;34m:\u001b[0m\u001b[0;34m\u001b[0m\u001b[0m\n\u001b[1;32m   1360\u001b[0m     \u001b[0;32mtry\u001b[0m\u001b[0;34m:\u001b[0m\u001b[0;34m\u001b[0m\u001b[0m\n\u001b[0;32m-> 1361\u001b[0;31m       \u001b[0;32mreturn\u001b[0m \u001b[0mfn\u001b[0m\u001b[0;34m(\u001b[0m\u001b[0;34m*\u001b[0m\u001b[0margs\u001b[0m\u001b[0;34m)\u001b[0m\u001b[0;34m\u001b[0m\u001b[0m\n\u001b[0m\u001b[1;32m   1362\u001b[0m     \u001b[0;32mexcept\u001b[0m \u001b[0merrors\u001b[0m\u001b[0;34m.\u001b[0m\u001b[0mOpError\u001b[0m \u001b[0;32mas\u001b[0m \u001b[0me\u001b[0m\u001b[0;34m:\u001b[0m\u001b[0;34m\u001b[0m\u001b[0m\n\u001b[1;32m   1363\u001b[0m       \u001b[0mmessage\u001b[0m \u001b[0;34m=\u001b[0m \u001b[0mcompat\u001b[0m\u001b[0;34m.\u001b[0m\u001b[0mas_text\u001b[0m\u001b[0;34m(\u001b[0m\u001b[0me\u001b[0m\u001b[0;34m.\u001b[0m\u001b[0mmessage\u001b[0m\u001b[0;34m)\u001b[0m\u001b[0;34m\u001b[0m\u001b[0m\n",
      "\u001b[0;32m~/var/python/lib/python3.6/site-packages/tensorflow/python/client/session.py\u001b[0m in \u001b[0;36m_run_fn\u001b[0;34m(session, feed_dict, fetch_list, target_list, options, run_metadata)\u001b[0m\n\u001b[1;32m   1338\u001b[0m         \u001b[0;32melse\u001b[0m\u001b[0;34m:\u001b[0m\u001b[0;34m\u001b[0m\u001b[0m\n\u001b[1;32m   1339\u001b[0m           return tf_session.TF_Run(session, options, feed_dict, fetch_list,\n\u001b[0;32m-> 1340\u001b[0;31m                                    target_list, status, run_metadata)\n\u001b[0m\u001b[1;32m   1341\u001b[0m \u001b[0;34m\u001b[0m\u001b[0m\n\u001b[1;32m   1342\u001b[0m     \u001b[0;32mdef\u001b[0m \u001b[0m_prun_fn\u001b[0m\u001b[0;34m(\u001b[0m\u001b[0msession\u001b[0m\u001b[0;34m,\u001b[0m \u001b[0mhandle\u001b[0m\u001b[0;34m,\u001b[0m \u001b[0mfeed_dict\u001b[0m\u001b[0;34m,\u001b[0m \u001b[0mfetch_list\u001b[0m\u001b[0;34m)\u001b[0m\u001b[0;34m:\u001b[0m\u001b[0;34m\u001b[0m\u001b[0m\n",
      "\u001b[0;31mKeyboardInterrupt\u001b[0m: "
     ]
    }
   ],
   "source": [
    "# 2. LE (Label Error)\n",
    "run_operator(mutation_ratios, \"LE\", model, (train_datas, train_labels), test_datas, test_labels) "
   ]
  },
  {
   "cell_type": "code",
   "execution_count": null,
   "metadata": {
    "colab": {
     "base_uri": "https://localhost:8080/",
     "height": 67
    },
    "colab_type": "code",
    "executionInfo": {
     "elapsed": 335751,
     "status": "ok",
     "timestamp": 1552147500309,
     "user": {
      "displayName": "yh wu",
      "photoUrl": "",
      "userId": "11025832306997972186"
     },
     "user_tz": 0
    },
    "id": "g4hZW8pv3O9W",
    "outputId": "19c8b3c7-1faa-41ff-b3a7-ff4593f0328a"
   },
   "outputs": [],
   "source": [
    "# 3. DM (Data Missing)\n",
    "run_operator(mutation_ratios, \"DM\", model, (train_datas, train_labels), test_datas, test_labels) "
   ]
  },
  {
   "cell_type": "code",
   "execution_count": null,
   "metadata": {
    "colab": {
     "base_uri": "https://localhost:8080/",
     "height": 101
    },
    "colab_type": "code",
    "executionInfo": {
     "elapsed": 454125,
     "status": "ok",
     "timestamp": 1552147618703,
     "user": {
      "displayName": "yh wu",
      "photoUrl": "",
      "userId": "11025832306997972186"
     },
     "user_tz": 0
    },
    "id": "49xpY8OO3O-_",
    "outputId": "e39d51f5-460a-496a-f25c-3d80e1ead250",
    "scrolled": true
   },
   "outputs": [],
   "source": [
    "# 4. DF (Data Shuffle)\n",
    "run_operator(mutation_ratios, \"DF\", model, (train_datas, train_labels), test_datas, test_labels) "
   ]
  },
  {
   "cell_type": "code",
   "execution_count": null,
   "metadata": {
    "colab": {
     "base_uri": "https://localhost:8080/",
     "height": 101
    },
    "colab_type": "code",
    "executionInfo": {
     "elapsed": 576358,
     "status": "ok",
     "timestamp": 1552147740959,
     "user": {
      "displayName": "yh wu",
      "photoUrl": "",
      "userId": "11025832306997972186"
     },
     "user_tz": 0
    },
    "id": "susYIXO63O_6",
    "outputId": "c03bab8b-2a34-4b48-a9fa-2fdc38632c90"
   },
   "outputs": [],
   "source": [
    "# 5. NP - Noise Perturb, STD is 10 by default, can be modified in run_operator\n",
    "run_operator(mutation_ratios, \"NP\", model, (train_datas, train_labels), test_datas, test_labels) "
   ]
  },
  {
   "cell_type": "code",
   "execution_count": null,
   "metadata": {
    "colab": {
     "base_uri": "https://localhost:8080/",
     "height": 118
    },
    "colab_type": "code",
    "executionInfo": {
     "elapsed": 939721,
     "status": "ok",
     "timestamp": 1552148104353,
     "user": {
      "displayName": "yh wu",
      "photoUrl": "",
      "userId": "11025832306997972186"
     },
     "user_tz": 0
    },
    "id": "YC2qAkQ_ws0G",
    "outputId": "0fe3d37e-19f1-4f09-ddb3-19e42efbbef3"
   },
   "outputs": [],
   "source": [
    "# # 6.LR - Layer Removal\n",
    "# run_operator(mutation_ratios, \"LR\", model, (train_datas, train_labels), test_datas, test_labels) "
   ]
  },
  {
   "cell_type": "code",
   "execution_count": null,
   "metadata": {
    "colab": {
     "base_uri": "https://localhost:8080/",
     "height": 118
    },
    "colab_type": "code",
    "executionInfo": {
     "elapsed": 1075386,
     "status": "ok",
     "timestamp": 1552148240019,
     "user": {
      "displayName": "yh wu",
      "photoUrl": "",
      "userId": "11025832306997972186"
     },
     "user_tz": 0
    },
    "id": "NjU7i8mM5Cqq",
    "outputId": "51fcb2c3-0072-44b2-ba74-3376e8526ac4"
   },
   "outputs": [],
   "source": [
    "# # 7. LAs - Layer Addition\n",
    "# run_operator(mutation_ratios, \"LAs\", model, (train_datas, train_labels), test_datas, test_labels) "
   ]
  },
  {
   "cell_type": "code",
   "execution_count": null,
   "metadata": {
    "colab": {
     "base_uri": "https://localhost:8080/",
     "height": 118
    },
    "colab_type": "code",
    "executionInfo": {
     "elapsed": 1208479,
     "status": "ok",
     "timestamp": 1552148373114,
     "user": {
      "displayName": "yh wu",
      "photoUrl": "",
      "userId": "11025832306997972186"
     },
     "user_tz": 0
    },
    "id": "1z8zT6Mt5T3m",
    "outputId": "301b3eb6-d396-49c0-e663-c001bdc1b0c0",
    "scrolled": true
   },
   "outputs": [],
   "source": [
    "# 8. AFRs - Activation Function Removal\n",
    "run_operator(mutation_ratios, \"AFRs\", model, (train_datas, train_labels), test_datas, test_labels) "
   ]
  }
 ],
 "metadata": {
  "accelerator": "GPU",
  "colab": {
   "collapsed_sections": [],
   "name": "Copy of visualization_of_experiments_SMO_FC.ipynb",
   "provenance": [],
   "version": "0.3.2"
  },
  "kernelspec": {
   "display_name": "Python 3",
   "language": "python",
   "name": "python3"
  },
  "language_info": {
   "codemirror_mode": {
    "name": "ipython",
    "version": 3
   },
   "file_extension": ".py",
   "mimetype": "text/x-python",
   "name": "python",
   "nbconvert_exporter": "python",
   "pygments_lexer": "ipython3",
   "version": "3.6.3"
  }
 },
 "nbformat": 4,
 "nbformat_minor": 1
}
