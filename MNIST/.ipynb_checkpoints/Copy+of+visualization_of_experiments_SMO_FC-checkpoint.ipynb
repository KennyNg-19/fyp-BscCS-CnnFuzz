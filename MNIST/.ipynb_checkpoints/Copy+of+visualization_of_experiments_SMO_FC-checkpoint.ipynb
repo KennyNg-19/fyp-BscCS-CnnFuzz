{
 "cells": [
  {
   "cell_type": "code",
   "execution_count": 37,
   "metadata": {
    "colab": {
     "base_uri": "https://localhost:8080/",
     "height": 34
    },
    "colab_type": "code",
    "executionInfo": {
     "elapsed": 820,
     "status": "ok",
     "timestamp": 1552147165248,
     "user": {
      "displayName": "yh wu",
      "photoUrl": "",
      "userId": "11025832306997972186"
     },
     "user_tz": 0
    },
    "id": "5OO1xmx03O7s",
    "outputId": "6be81689-f335-480c-cd3b-4220604235c0"
   },
   "outputs": [],
   "source": [
    "# from google.colab import drive\n",
    "# drive.mount('/content/drive')"
   ]
  },
  {
   "cell_type": "code",
   "execution_count": 38,
   "metadata": {
    "colab": {},
    "colab_type": "code",
    "id": "GfH7Juf73Yi-"
   },
   "outputs": [],
   "source": [
    "# import os\n",
    "\n",
    "# # 此处为google drive中的文件路径,drive为之前指定的工作根目录，要加上\n",
    "# os.chdir(\"/content/drive/My Drive/DeepMutationOperators-master\") "
   ]
  },
  {
   "cell_type": "code",
   "execution_count": 39,
   "metadata": {},
   "outputs": [],
   "source": [
    "# !tar cvfz notebook.zip * "
   ]
  },
  {
   "cell_type": "code",
   "execution_count": 40,
   "metadata": {
    "colab": {},
    "colab_type": "code",
    "id": "F32yHt-63SpS"
   },
   "outputs": [
    {
     "name": "stdout",
     "output_type": "stream",
     "text": [
      "Shuffle train_datas and test_datas.\n",
      "\n",
      "Extract: training 5000 + testing 1000\n",
      "train_datas shape: (5000, 28, 28, 1)\n",
      "test_datas shape: (1000, 28, 28, 1)\n",
      "train_labels shape: (5000, 10)\n",
      "test_labels shape: (1000, 10)\n"
     ]
    }
   ],
   "source": [
    "# Basic setup & Import related modules \n",
    "import tensorflow as tf \n",
    "import numpy as np\n",
    "import keras\n",
    "import matplotlib.pyplot as plt\n",
    "import random, math\n",
    "\n",
    "plt.rcParams['image.interpolation'] = 'nearest'\n",
    "plt.rcParams['image.cmap'] = 'gray'\n",
    "\n",
    "# storage\n",
    "import os\n",
    "from cv2 import imwrite\n",
    "from datetime import datetime\n",
    "\n",
    "save_dir = './seeds/'\n",
    "\n",
    "if os.path.exists(save_dir):\n",
    "    for i in os.listdir(save_dir):\n",
    "        path_file = os.path.join(save_dir, i)\n",
    "        if os.path.isfile(path_file):\n",
    "            os.remove(path_file)\n",
    "\n",
    "# if storage dir not exists\n",
    "if not os.path.exists(save_dir):\n",
    "    os.makedirs(save_dir)\n",
    "\n",
    "import utils, network, source_mut_operators \n",
    "utils = utils.GeneralUtils()\n",
    "network = network.CNNNetwork() #\n",
    "source_mut_opts = source_mut_operators.SourceMutationOperators()\n",
    " \n",
    "(train_datas, train_labels), (test_datas, test_labels) = network.load_and_preprocess_data() # randomly pick data and do normalization：[0,255] -> [0,1] \n",
    "\n",
    "print('train_datas shape:', train_datas.shape)\n",
    "print('test_datas shape:', test_datas.shape)\n",
    "print('train_labels shape:', train_labels.shape)\n",
    "print('test_labels shape:', test_labels.shape)\n",
    "\n",
    "mutation_ratios = [i*0.05 + 0.05 for i in range(5,7)]\n",
    "\n",
    "mutant_accuracy_control_threshold = [0.92 for i in mutation_ratios if i < 0.5] + [0.88 for i in mutation_ratios if i >= 0.5]\n",
    "\n",
    "# initialize as an empty numpy array \n",
    "gen_test_cases = np.zeros(train_datas.shape)\n",
    "gen_test_cases = np.delete(gen_test_cases, slice(0, gen_test_cases.shape[0]), axis=0) # remove the all the lines, only keeps the shape (0, 32, 32, 1)\n",
    "total_test_cases_num = 0\n",
    "difference_indexes = [] # a set for all differences among different operators \n",
    "difference_scores = []\n",
    "counter = 0"
   ]
  },
  {
   "cell_type": "code",
   "execution_count": 46,
   "metadata": {
    "colab": {
     "base_uri": "https://localhost:8080/",
     "height": 84
    },
    "colab_type": "code",
    "executionInfo": {
     "elapsed": 3032,
     "status": "ok",
     "timestamp": 1552147167507,
     "user": {
      "displayName": "yh wu",
      "photoUrl": "",
      "userId": "11025832306997972186"
     },
     "user_tz": 0
    },
    "id": "hXfE0LpJ3O8N",
    "outputId": "02225734-3660-4d0d-a476-65cc16411fcd"
   },
   "outputs": [],
   "source": [
    "\n",
    "# initialize as an empty numpy array\n",
    "def initialize_before_each_mutation():\n",
    "    global gen_test_cases \n",
    "    gen_test_cases = np.delete(gen_test_cases, slice(0, gen_test_cases.shape[0]), axis=0) # remove the all the lines, only keeps the shape (0, 28, 28, 1)\n",
    "    global difference_indexes \n",
    "    difference_indexes = [] # a set for all differences among different operators\n",
    "    global difference_scores\n",
    "    difference_scores = []\n",
    "    global counter \n",
    "    counter = 0\n",
    "    \n",
    "def deprocess_image(x):\n",
    "    # de-normalization: [0,1] -> [0,255]     \n",
    "    x *= 255\n",
    "    if x.shape == (32,32,1):\n",
    "        return x.squeeze()[0+2:31-1,0+2:31-1] #  indexing:[2:30], np.squeeze will remove single dimension: (32,32,1)-> (28,28)\n",
    "    # (784,0)\n",
    "    elif x.shape == (28,28,1):\n",
    "        return x.reshape(28,28) #  for one test_case,original shape (784,)\n",
    "    else:\n",
    "        print('sth wrong...')\n",
    "\n",
    "def np_unique_without_sorting(a, axis):\n",
    "    _, idx = np.unique(a, axis, return_index=True)\n",
    "    return a[np.sort(idx)]\n",
    "\n",
    "def remove_duplicate_without_sorting(seq): \n",
    "   # order preserving\n",
    "   noDupes = []\n",
    "   [noDupes.append(i) for i in seq if not noDupes.count(i)]\n",
    "   return noDupes\n",
    "\n",
    "# store test cases in to local folder\n",
    "# difficult: correspondences exist between test cases and their respecitve real labels\n",
    "def store_test_cases(mutation_name, difference_indexes, gen_test_cases):\n",
    "    difference_indexes = remove_duplicate_without_sorting(difference_indexes)\n",
    "    for index, test_case in enumerate(gen_test_cases):\n",
    "        imwrite('%s%d_%d.png' % (save_dir + mutation_name, index + 1, right_labels[difference_indexes[index]]), deprocess_image(test_case))\n",
    "        \n",
    "\n",
    "def run_operator(mutation_ratios, operator_name, model, train_datas, train_labels, test_datas, test_labels):\n",
    "    # initialize as an empty numpy array\n",
    "    initialize_before_each_mutation()\n",
    "    \n",
    "    global gen_test_cases     \n",
    "    global difference_indexes     \n",
    "    global difference_scores    \n",
    "    global counter \n",
    "    global total_test_cases_num\n",
    "    \n",
    "    for mutation_ratio in mutation_ratios:\n",
    "        if operator_name == 'DR':\n",
    "            (mutated_datas, mutated_labels), mutated_model = self.source_mut_opts.DR_mut(train_dataset, model, mutation_ratio)\n",
    "        elif operator_name == 'LE':\n",
    "            (mutated_datas, mutated_labels), mutated_model = self.source_mut_opts.LE_mut(train_dataset, model, lower_bound, upper_bound, mutation_ratio)\n",
    "        elif operator_name == 'DM':\n",
    "            (mutated_datas, mutated_labels), mutated_model = self.source_mut_opts.DM_mut(train_dataset, model, mutation_ratio)\n",
    "        elif operator_name == 'DF':\n",
    "            (mutated_datas, mutated_labels), mutated_model = self.source_mut_opts.DF_mut(train_dataset, model, mutation_ratio)\n",
    "        elif operator_name == 'NP':\n",
    "            (mutated_datas, mutated_labels), mutated_model = self.source_mut_opts.NP_mut(train_dataset, model, mutation_ratio, STD=STD)\n",
    "        elif operator_name == 'LR':\n",
    "            (mutated_datas, mutated_labels), mutated_model = self.source_mut_opts.LR_mut(train_dataset, model, mutated_layer_indices=mutated_layer_indices)\n",
    "        elif operator_name == 'LAs':\n",
    "            (mutated_datas, mutated_labels), mutated_model = self.source_mut_opts.LAs_mut(train_dataset, model, mutated_layer_indices=mutated_layer_indices)\n",
    "        elif operator_name == 'AFRs':\n",
    "            (mutated_datas, mutated_labels), mutated_model = self.source_mut_opts.AFRs_mut(train_dataset, model, mutated_layer_indices=mutated_layer_indices)\n",
    "        else:\n",
    "            print(\"Input is not a valid operator mode\")\n",
    "            return\n",
    "        \n",
    "        # compile model        \n",
    "        model = network.compile_model(model)\n",
    "        mutated_model = network.compile_model(mutated_model)\n",
    "        \n",
    "        # train model\n",
    "        trained_model = network.train_model(model, train_datas, train_labels)\n",
    "        trained_mutated_model = network.train_model(mutated_model, mutated_datas, mutated_results)\n",
    "\n",
    "        # quality control of mutant model\n",
    "        mutant_loss, mutant_acc = trained_mutated_model.evaluate(test_datas, test_labels, verbose=False)\n",
    "        if mutant_acc < mutant_accuracy_control_threshold[counter]:\n",
    "          counter += 1\n",
    "          difference_scores.append(0)\n",
    "          print(\"the %dth DL mutant behaves badly, with acc %.3f and %.2f mutation ratio, will be dropped out\\n\" % (counter, mutant_acc, mutation_ratio))\n",
    "          continue\n",
    "        print(\"the %dth DL mutant passes the quality test, with acc %.3f and %.2f mutation ratio\" % (counter + 1, mutant_acc, mutation_ratio))\n",
    "\n",
    "        # test the mutated model         \n",
    "        right_labels = np.argmax(test_labels, axis=1) # right answer\n",
    "        mutant_predi_labels = np.argmax(trained_mutated_model.predict(test_datas), axis = 1)\n",
    "        \n",
    "        # compare the test reasults with correct result \n",
    "        #  np.nonzero(right_labels-mutant_predi_labels) is a tuple with only one element: the [0],a numpy array\n",
    "        difference_indexes = difference_indexes + list(np.nonzero(right_labels-mutant_predi_labels)[0]) \n",
    "        difference_score = len(difference_indexes) / right_labels.size \n",
    "        difference_scores.append(difference_score) \n",
    "\n",
    "        counter += 1\n",
    "        print(\"%d iter: the difference ratio: %.3f  with mutation ratio: %.2f\" % (counter, difference_score, mutation_ratio))\n",
    "        prev_gen_test_cases = gen_test_cases\n",
    "        additional_test_cases = test_datas[np.nonzero(right_labels-mutant_predi_labels)[0]]\n",
    "        concat_test_cases = np.append(gen_test_cases, additional_test_cases,axis = 0)      \n",
    "        _, idx = np.unique(concat_test_cases, axis = 0, return_index=True)\n",
    "        gen_test_cases = concat_test_cases[np.sort(idx)]\n",
    "\n",
    "\n",
    "        print(\" test cases + %d\\n\" % (gen_test_cases.shape[0] - prev_gen_test_cases.shape[0]))\n",
    "    \n",
    "    # save the test cases causing differences    \n",
    "    store_test_cases('DR', difference_indexes, gen_test_cases)\n",
    "    total_test_cases_num += gen_test_cases.shape[0]\n",
    "    print(\"now %d test cases to be saved\\n\" % total_test_cases_num)   \n",
    "        "
   ]
  },
  {
   "cell_type": "code",
   "execution_count": 47,
   "metadata": {},
   "outputs": [
    {
     "name": "stdout",
     "output_type": "stream",
     "text": [
      "LeNet-5 loaded\n"
     ]
    }
   ],
   "source": [
    "# normal FC model, not CNN \n",
    "# model = network.create_normal_FC_model()\n",
    "\n",
    "from Model1 import Model1\n",
    "from Model2 import Model2\n",
    "from Model3 import Model3\n",
    "\n",
    "# create_CNN_model_1(): LeNet 5\n",
    "# way1:\n",
    "# model = network.create_CNN_model_1()\n",
    "\n",
    "# way2 :\n",
    "# model = network.load_model('Model3.h5')\n",
    "\n",
    "# way3:\n",
    "model = Model3(input_tensor=(Input(shape=(28,28,1))))"
   ]
  },
  {
   "cell_type": "code",
   "execution_count": 43,
   "metadata": {
    "colab": {
     "base_uri": "https://localhost:8080/",
     "height": 101
    },
    "colab_type": "code",
    "executionInfo": {
     "elapsed": 120335,
     "status": "ok",
     "timestamp": 1552147284827,
     "user": {
      "displayName": "yh wu",
      "photoUrl": "",
      "userId": "11025832306997972186"
     },
     "user_tz": 0
    },
    "id": "i8JVJ6d53O8e",
    "outputId": "3d966c5c-6119-4b9e-c1e5-d1832f5e92d1"
   },
   "outputs": [
    {
     "name": "stdout",
     "output_type": "stream",
     "text": [
      "\n",
      "1. DR (Data Repetition) mutation operator\n",
      "the 1th DL mutant passes the quality test, with acc 0.986 and 0.30 mutation ratio\n",
      "1 iter: the difference ratio: 0.014  with mutation ratio: 0.30\n",
      " test cases + 14\n",
      "\n",
      "the 2th DL mutant passes the quality test, with acc 0.990 and 0.35 mutation ratio\n",
      "2 iter: the difference ratio: 0.024  with mutation ratio: 0.35\n",
      " test cases + 2\n",
      "\n",
      "now 16 test cases to be saved\n"
     ]
    }
   ],
   "source": [
    "# 1. DR (Data Repetition)\n",
    "print(\"\\n1. DR (Data Repetition) mutation operator\")\n",
    "run_operator(mutation_ratios, \"DR\", model, train_datas, train_labels, test_datas, test_labels)"
   ]
  },
  {
   "cell_type": "code",
   "execution_count": null,
   "metadata": {
    "colab": {
     "base_uri": "https://localhost:8080/",
     "height": 443
    },
    "colab_type": "code",
    "executionInfo": {
     "elapsed": 120761,
     "status": "ok",
     "timestamp": 1552147285273,
     "user": {
      "displayName": "yh wu",
      "photoUrl": "",
      "userId": "11025832306997972186"
     },
     "user_tz": 0
    },
    "id": "wZS5UAuv3O8q",
    "outputId": "29bf0aa2-d562-49f8-de7a-c11a79e7f827"
   },
   "outputs": [],
   "source": [
    "plt.title('DR mutation deference')\n",
    "plt.axis([mutation_ratios[0], mutation_ratios[-1], 0, 0.1])\n",
    "plt.plot(mutation_ratios, difference_scores)\n",
    "plt.xlabel('Mutation ratio')\n",
    "plt.ylabel('Differences')\n",
    "plt.show()"
   ]
  },
  {
   "cell_type": "code",
   "execution_count": 44,
   "metadata": {
    "colab": {
     "base_uri": "https://localhost:8080/",
     "height": 67
    },
    "colab_type": "code",
    "executionInfo": {
     "elapsed": 229815,
     "status": "ok",
     "timestamp": 1552147394347,
     "user": {
      "displayName": "yh wu",
      "photoUrl": "",
      "userId": "11025832306997972186"
     },
     "user_tz": 0
    },
    "id": "DZu3KuDc3O84",
    "outputId": "7eb1f86a-74ac-4257-98fe-981b25f4bc5c"
   },
   "outputs": [
    {
     "name": "stdout",
     "output_type": "stream",
     "text": [
      "\n",
      "2. LE (Label Error) mutation operator\n"
     ]
    },
    {
     "ename": "TypeError",
     "evalue": "LE_mut() missing 2 required positional arguments: 'label_upper_bound' and 'mutation_ratio'",
     "output_type": "error",
     "traceback": [
      "\u001b[1;31m---------------------------------------------------------------------------\u001b[0m",
      "\u001b[1;31mTypeError\u001b[0m                                 Traceback (most recent call last)",
      "\u001b[1;32m<ipython-input-44-ec1705de62dd>\u001b[0m in \u001b[0;36m<module>\u001b[1;34m\u001b[0m\n\u001b[0;32m      2\u001b[0m \u001b[0mprint\u001b[0m\u001b[1;33m(\u001b[0m\u001b[1;34m\"\\n2. LE (Label Error) mutation operator\"\u001b[0m\u001b[1;33m)\u001b[0m\u001b[1;33m\u001b[0m\u001b[1;33m\u001b[0m\u001b[0m\n\u001b[0;32m      3\u001b[0m \u001b[1;33m\u001b[0m\u001b[0m\n\u001b[1;32m----> 4\u001b[1;33m \u001b[0mrun_operator\u001b[0m\u001b[1;33m(\u001b[0m\u001b[0mmutation_ratios\u001b[0m\u001b[1;33m,\u001b[0m \u001b[1;34m\"LE\"\u001b[0m\u001b[1;33m,\u001b[0m \u001b[0mmodel\u001b[0m\u001b[1;33m,\u001b[0m \u001b[0mtrain_datas\u001b[0m\u001b[1;33m,\u001b[0m \u001b[0mtrain_labels\u001b[0m\u001b[1;33m,\u001b[0m \u001b[0mtest_datas\u001b[0m\u001b[1;33m,\u001b[0m \u001b[0mtest_labels\u001b[0m\u001b[1;33m)\u001b[0m\u001b[1;33m\u001b[0m\u001b[1;33m\u001b[0m\u001b[0m\n\u001b[0m\u001b[0;32m      5\u001b[0m \u001b[1;31m# for mutation_ratio in mutation_ratios:\u001b[0m\u001b[1;33m\u001b[0m\u001b[1;33m\u001b[0m\u001b[1;33m\u001b[0m\u001b[0m\n\u001b[0;32m      6\u001b[0m \u001b[1;31m#     (mutated_datas, mutated_results), mutated_model = source_mut_opts.LE_mut((train_datas, train_labels), model, 0, 9, mutation_ratio)\u001b[0m\u001b[1;33m\u001b[0m\u001b[1;33m\u001b[0m\u001b[1;33m\u001b[0m\u001b[0m\n",
      "\u001b[1;32m<ipython-input-43-d26e5f5f5127>\u001b[0m in \u001b[0;36mrun_operator\u001b[1;34m(mutation_ratios, operator_name, model, train_datas, train_labels, test_datas, test_labels)\u001b[0m\n\u001b[0;32m     30\u001b[0m \u001b[1;33m\u001b[0m\u001b[0m\n\u001b[0;32m     31\u001b[0m         \u001b[0mmodel\u001b[0m \u001b[1;33m=\u001b[0m \u001b[0mnetwork\u001b[0m\u001b[1;33m.\u001b[0m\u001b[0mcompile_model\u001b[0m\u001b[1;33m(\u001b[0m\u001b[0mmodel\u001b[0m\u001b[1;33m)\u001b[0m\u001b[1;33m\u001b[0m\u001b[1;33m\u001b[0m\u001b[0m\n\u001b[1;32m---> 32\u001b[1;33m         \u001b[1;33m(\u001b[0m\u001b[0mmutated_datas\u001b[0m\u001b[1;33m,\u001b[0m \u001b[0mmutated_results\u001b[0m\u001b[1;33m)\u001b[0m\u001b[1;33m,\u001b[0m \u001b[0mmutated_model\u001b[0m \u001b[1;33m=\u001b[0m \u001b[0moperator_mutate\u001b[0m\u001b[1;33m(\u001b[0m\u001b[1;33m(\u001b[0m\u001b[0mtrain_datas\u001b[0m\u001b[1;33m,\u001b[0m \u001b[0mtrain_labels\u001b[0m\u001b[1;33m)\u001b[0m\u001b[1;33m,\u001b[0m \u001b[0mmodel\u001b[0m\u001b[1;33m,\u001b[0m \u001b[0mmutation_ratio\u001b[0m\u001b[1;33m)\u001b[0m\u001b[1;33m\u001b[0m\u001b[1;33m\u001b[0m\u001b[0m\n\u001b[0m\u001b[0;32m     33\u001b[0m         \u001b[0mmutated_model\u001b[0m \u001b[1;33m=\u001b[0m \u001b[0mnetwork\u001b[0m\u001b[1;33m.\u001b[0m\u001b[0mcompile_model\u001b[0m\u001b[1;33m(\u001b[0m\u001b[0mmutated_model\u001b[0m\u001b[1;33m)\u001b[0m\u001b[1;33m\u001b[0m\u001b[1;33m\u001b[0m\u001b[0m\n\u001b[0;32m     34\u001b[0m \u001b[1;33m\u001b[0m\u001b[0m\n",
      "\u001b[1;31mTypeError\u001b[0m: LE_mut() missing 2 required positional arguments: 'label_upper_bound' and 'mutation_ratio'"
     ]
    }
   ],
   "source": [
    "# 2. LE (Label Error)\n",
    "print(\"\\n2. LE (Label Error) mutation operator\")\n",
    "\n",
    "run_operator(mutation_ratios, \"LE\", model, train_datas, train_labels, test_datas, test_labels)\n",
    "# for mutation_ratio in mutation_ratios:\n",
    "#     (mutated_datas, mutated_results), mutated_model = source_mut_opts.LE_mut((train_datas, train_labels), model, 0, 9, mutation_ratio)\n",
    "\n",
    "#     model = network.compile_model(model)\n",
    "#     mutated_model = network.compile_model(mutated_model)\n",
    "    \n",
    "#     trained_model = network.train_model(model, train_datas, train_labels)\n",
    "#     trained_mutated_model = network.train_model(mutated_model, mutated_datas, mutated_results)\n",
    "    \n",
    "#     # quality control of mutant model\n",
    "#     mutant_loss, mutant_acc = trained_mutated_model.evaluate(test_datas, test_labels, verbose=False)\n",
    "#     if mutant_acc < mutant_accuracy_control_threshold[counter]:\n",
    "#       counter += 1\n",
    "#       difference_scores.append(0)\n",
    "#       print(\"the %dth DL mutant behaves badly, with acc %.3f and %.2f mutation ratio, will be dropped out\\n\" % (counter, mutant_acc, mutation_ratio))\n",
    "#       continue\n",
    "#     print(\"the %dth DL mutant passes the quality test, with acc %.3f and %.2f mutation ratio\" % (counter + 1, mutant_acc, mutation_ratio))\n",
    "\n",
    "#     right_labels = np.argmax(test_labels, axis=1) # right answer\n",
    "#     mutant_predi_labels = np.argmax(trained_mutated_model.predict(test_datas), axis = 1)\n",
    "    \n",
    "#     #  np.nonzero(right_labels-mutant_predi_labels) is a tuple with only one element: the [0],a numpy array\n",
    "#     difference_indexes = difference_indexes + list(np.nonzero(right_labels-mutant_predi_labels)[0]) \n",
    "#     difference_score = len(difference_indexes) / right_labels.size \n",
    "#     difference_scores.append(difference_score) \n",
    "#     print(difference_indexes)\n",
    "    \n",
    "#     counter += 1\n",
    "#     print(\"%d iter: the difference ratio: %.3f  with mutation ratio: %.2f\" % (counter, difference_score, mutation_ratio))\n",
    "#     prev_gen_test_cases = gen_test_cases\n",
    "#     additional_test_cases = test_datas[np.nonzero(right_labels-mutant_predi_labels)[0]]\n",
    "#     concat_test_cases = np.append(gen_test_cases, additional_test_cases,axis = 0)      \n",
    "#     _, idx = np.unique(concat_test_cases, axis = 0, return_index=True)\n",
    "#     gen_test_cases = concat_test_cases[np.sort(idx)]\n",
    "    \n",
    " \n",
    "#     print(\" test cases + %d\\n\" % (gen_test_cases.shape[0] - prev_gen_test_cases.shape[0]))\n",
    "\n",
    "# store_test_cases('LE', difference_indexes, gen_test_cases)\n",
    "# total_test_cases_num += gen_test_cases.shape[0]\n",
    "# print(\"now there are %d test cases\" % total_test_cases_num)   "
   ]
  },
  {
   "cell_type": "code",
   "execution_count": 7,
   "metadata": {
    "colab": {
     "base_uri": "https://localhost:8080/",
     "height": 443
    },
    "colab_type": "code",
    "executionInfo": {
     "elapsed": 229803,
     "status": "ok",
     "timestamp": 1552147394350,
     "user": {
      "displayName": "yh wu",
      "photoUrl": "",
      "userId": "11025832306997972186"
     },
     "user_tz": 0
    },
    "id": "3fRizGJK3O9G",
    "outputId": "23f0e5e7-00a9-42a6-8fb0-225542b3a373"
   },
   "outputs": [
    {
     "data": {
      "image/png": "[encoded data removed]",
      "text/plain": [
       "<Figure size 432x288 with 1 Axes>"
      ]
     },
     "metadata": {},
     "output_type": "display_data"
    }
   ],
   "source": [
    "plt.title('LE mutation accurancy')\n",
    "plt.axis([mutation_ratios[0], mutation_ratios[-1], 0, 0.2])\n",
    "plt.plot(mutation_ratios, difference_scores)\n",
    "plt.xlabel('Mutation ratio')\n",
    "plt.ylabel('Differences')\n",
    "plt.show()"
   ]
  },
  {
   "cell_type": "code",
   "execution_count": 8,
   "metadata": {
    "colab": {
     "base_uri": "https://localhost:8080/",
     "height": 67
    },
    "colab_type": "code",
    "executionInfo": {
     "elapsed": 335751,
     "status": "ok",
     "timestamp": 1552147500309,
     "user": {
      "displayName": "yh wu",
      "photoUrl": "",
      "userId": "11025832306997972186"
     },
     "user_tz": 0
    },
    "id": "g4hZW8pv3O9W",
    "outputId": "19c8b3c7-1faa-41ff-b3a7-ff4593f0328a"
   },
   "outputs": [
    {
     "name": "stdout",
     "output_type": "stream",
     "text": [
      "\n",
      "3. DM (Data Missing) mutation operator\n",
      "the 1th DL mutant passes the quality test, with acc 0.984 and 0.30 mutation ratio\n",
      "1 iter: the difference ratio: 0.016  with mutation ratio: 0.30\n",
      " test cases + 16\n",
      "\n",
      "the 2th DL mutant passes the quality test, with acc 0.982 and 0.35 mutation ratio\n",
      "2 iter: the difference ratio: 0.034  with mutation ratio: 0.35\n",
      " test cases + 7\n",
      "\n",
      "now there are 42 test cases\n"
     ]
    }
   ],
   "source": [
    "# 3. DM (Data Missing)\n",
    "print(\"\\n3. DM (Data Missing) mutation operator\")\n",
    "\n",
    "initialize_before_each_mutation()\n",
    "\n",
    "for mutation_ratio in mutation_ratios:\n",
    "    (mutated_datas, mutated_results), mutated_model = source_mut_opts.DM_mut((train_datas, train_labels), model, mutation_ratio)\n",
    "\n",
    "    model = network.compile_model(model)\n",
    "    mutated_model = network.compile_model(mutated_model)\n",
    "    \n",
    "    trained_model = network.train_model(model, train_datas, train_labels)\n",
    "    trained_mutated_model = network.train_model(mutated_model, mutated_datas, mutated_results)\n",
    "    \n",
    "    # quality control of mutant model\n",
    "    mutant_loss, mutant_acc = trained_mutated_model.evaluate(test_datas, test_labels, verbose=False)\n",
    "    if mutant_acc < mutant_accuracy_control_threshold[counter]:\n",
    "      counter += 1\n",
    "      difference_scores.append(0)\n",
    "      print(\"the %dth DL mutant behaves badly, with acc %.3f and %.2f mutation ratio, will be dropped out\\n\" % (counter, mutant_acc, mutation_ratio))\n",
    "      continue\n",
    "    print(\"the %dth DL mutant passes the quality test, with acc %.3f and %.2f mutation ratio\" % (counter + 1, mutant_acc, mutation_ratio))\n",
    "    \n",
    "    right_labels = np.argmax(test_labels, axis=1) # right answer\n",
    "    mutant_predi_labels = np.argmax(trained_mutated_model.predict(test_datas), axis = 1)\n",
    "    \n",
    "    #  np.nonzero(right_labels-mutant_predi_labels) is a tuple with only one element: the [0],a numpy array\n",
    "    difference_indexes = difference_indexes + list(np.nonzero(right_labels-mutant_predi_labels)[0]) \n",
    "    difference_score = len(difference_indexes) / right_labels.size \n",
    "    difference_scores.append(difference_score) \n",
    "    \n",
    "    counter += 1\n",
    "    print(\"%d iter: the difference ratio: %.3f  with mutation ratio: %.2f\" % (counter, difference_score, mutation_ratio))\n",
    "    prev_gen_test_cases = gen_test_cases\n",
    "    additional_test_cases = test_datas[np.nonzero(right_labels-mutant_predi_labels)[0]]\n",
    "    concat_test_cases = np.append(gen_test_cases, additional_test_cases,axis = 0)      \n",
    "    _, idx = np.unique(concat_test_cases, axis = 0, return_index=True)\n",
    "    gen_test_cases = concat_test_cases[np.sort(idx)]\n",
    "    \n",
    " \n",
    "    print(\" test cases + %d\\n\" % (gen_test_cases.shape[0] - prev_gen_test_cases.shape[0]))\n",
    "\n",
    "store_test_cases('DM', difference_indexes, gen_test_cases)\n",
    "total_test_cases_num += gen_test_cases.shape[0]\n",
    "print(\"now there are %d test cases\" % total_test_cases_num)   "
   ]
  },
  {
   "cell_type": "code",
   "execution_count": 12,
   "metadata": {
    "colab": {
     "base_uri": "https://localhost:8080/",
     "height": 443
    },
    "colab_type": "code",
    "executionInfo": {
     "elapsed": 335743,
     "status": "ok",
     "timestamp": 1552147500311,
     "user": {
      "displayName": "yh wu",
      "photoUrl": "",
      "userId": "11025832306997972186"
     },
     "user_tz": 0
    },
    "id": "uIB5NNio3O9k",
    "outputId": "0f5f00f6-7e36-46ba-d233-b78979f828ee"
   },
   "outputs": [
    {
     "data": {
      "image/png": "[encoded data removed]",
      "text/plain": [
       "<Figure size 432x288 with 1 Axes>"
      ]
     },
     "metadata": {},
     "output_type": "display_data"
    }
   ],
   "source": [
    "plt.title('DM mutation difference')\n",
    "plt.axis([mutation_ratios[0], mutation_ratios[-1], 0, 0.2])\n",
    "plt.plot(mutation_ratios, difference_scores)\n",
    "plt.xlabel('Mutation ratio')\n",
    "plt.ylabel('Differences')\n",
    "plt.show()"
   ]
  },
  {
   "cell_type": "code",
   "execution_count": 13,
   "metadata": {},
   "outputs": [],
   "source": [
    "# # store test cases in to local folder\n",
    "# for index, test_case in enumerate(gen_test_cases):\n",
    "#     imwrite('%s%d_%d.png' % (save_dir, index + 1, right_labels[list(difference_indexes)[index]]), deprocess_image(test_case))"
   ]
  },
  {
   "cell_type": "code",
   "execution_count": 14,
   "metadata": {},
   "outputs": [],
   "source": [
    "# model.predict( .reshape())"
   ]
  },
  {
   "cell_type": "code",
   "execution_count": 110,
   "metadata": {
    "colab": {
     "base_uri": "https://localhost:8080/",
     "height": 101
    },
    "colab_type": "code",
    "executionInfo": {
     "elapsed": 454125,
     "status": "ok",
     "timestamp": 1552147618703,
     "user": {
      "displayName": "yh wu",
      "photoUrl": "",
      "userId": "11025832306997972186"
     },
     "user_tz": 0
    },
    "id": "49xpY8OO3O-_",
    "outputId": "e39d51f5-460a-496a-f25c-3d80e1ead250"
   },
   "outputs": [
    {
     "name": "stdout",
     "output_type": "stream",
     "text": [
      "\n",
      "4. DF (Data Shuffle) mutation operator\n",
      "the 1th DL mutant passes the quality test, with acc 0.976 and 0.30 mutation ratio\n"
     ]
    },
    {
     "ename": "TypeError",
     "evalue": "unsupported operand type(s) for |: 'list' and 'set'",
     "output_type": "error",
     "traceback": [
      "\u001b[0;31m---------------------------------------------------------------------------\u001b[0m",
      "\u001b[0;31mTypeError\u001b[0m                                 Traceback (most recent call last)",
      "\u001b[0;32m<ipython-input-110-60cf5565a98a>\u001b[0m in \u001b[0;36m<module>\u001b[0;34m()\u001b[0m\n\u001b[1;32m     28\u001b[0m \u001b[0;34m\u001b[0m\u001b[0m\n\u001b[1;32m     29\u001b[0m     \u001b[0;31m#  np.nonzero(right_labels-mutant_predi_labels) is a tuple with only one element: the [0],a numpy array\u001b[0m\u001b[0;34m\u001b[0m\u001b[0;34m\u001b[0m\u001b[0m\n\u001b[0;32m---> 30\u001b[0;31m     \u001b[0mdifference_indexes\u001b[0m \u001b[0;34m=\u001b[0m \u001b[0mdifference_indexes\u001b[0m \u001b[0;34m|\u001b[0m \u001b[0mset\u001b[0m\u001b[0;34m(\u001b[0m\u001b[0mnp\u001b[0m\u001b[0;34m.\u001b[0m\u001b[0mnonzero\u001b[0m\u001b[0;34m(\u001b[0m\u001b[0mright_labels\u001b[0m\u001b[0;34m-\u001b[0m\u001b[0mmutant_predi_labels\u001b[0m\u001b[0;34m)\u001b[0m\u001b[0;34m[\u001b[0m\u001b[0;36m0\u001b[0m\u001b[0;34m]\u001b[0m\u001b[0;34m)\u001b[0m\u001b[0;34m\u001b[0m\u001b[0m\n\u001b[0m\u001b[1;32m     31\u001b[0m     \u001b[0mdifference_score\u001b[0m \u001b[0;34m=\u001b[0m \u001b[0mlen\u001b[0m\u001b[0;34m(\u001b[0m\u001b[0mdifference_indexes\u001b[0m\u001b[0;34m)\u001b[0m \u001b[0;34m/\u001b[0m \u001b[0mright_labels\u001b[0m\u001b[0;34m.\u001b[0m\u001b[0msize\u001b[0m\u001b[0;34m\u001b[0m\u001b[0m\n\u001b[1;32m     32\u001b[0m     \u001b[0mdifference_scores\u001b[0m\u001b[0;34m.\u001b[0m\u001b[0mappend\u001b[0m\u001b[0;34m(\u001b[0m\u001b[0mdifference_score\u001b[0m\u001b[0;34m)\u001b[0m\u001b[0;34m\u001b[0m\u001b[0m\n",
      "\u001b[0;31mTypeError\u001b[0m: unsupported operand type(s) for |: 'list' and 'set'"
     ]
    }
   ],
   "source": [
    "# 4. DF (Data Shuffle)\n",
    "print(\"\\n4. DF (Data Shuffle) mutation operator\")\n",
    "initialize_before_each_mutation()\n",
    "for mutation_ratio in mutation_ratios:\n",
    "    (mutated_datas, mutated_results), mutated_model = source_mut_opts.DF_mut((train_datas, train_labels), model, mutation_ratio)\n",
    "\n",
    "    model = network.compile_model(model)\n",
    "    mutated_model = network.compile_model(mutated_model)\n",
    "    \n",
    "    trained_model = network.train_model(model, train_datas, train_labels)\n",
    "    trained_mutated_model = network.train_model(mutated_model, mutated_datas, mutated_results)\n",
    "    \n",
    "    # quality control of mutant model\n",
    "    mutant_loss, mutant_acc = trained_mutated_model.evaluate(test_datas, test_labels, verbose=False)\n",
    "    if mutant_acc < mutant_accuracy_control_threshold[counter]:\n",
    "      counter += 1\n",
    "      difference_scores.append(0)\n",
    "      print(\"the %dth DL mutant behaves badly, with acc %.3f and %.2f mutation ratio, will be dropped out\\n\" % (counter, mutant_acc, mutation_ratio))\n",
    "      continue\n",
    "    print(\"the %dth DL mutant passes the quality   test, with acc %.3f and %.2f mutation ratio\" % (counter + 1, mutant_acc, mutation_ratio))\n",
    "    \n",
    "    # get prediction results\n",
    "    # predictions = trained_model.predict(test_datas)\n",
    "    mutant_predictions = trained_mutated_model.predict(test_datas)\n",
    "    \n",
    "    right_labels = np.argmax(test_labels, axis=1) # right answer\n",
    "    mutant_predi_labels = np.argmax(mutant_predictions, axis = 1)\n",
    "    \n",
    "    #  np.nonzero(right_labels-mutant_predi_labels) is a tuple with only one element: the [0],a numpy array\n",
    "    difference_indexes = difference_indexes | set(np.nonzero(right_labels-mutant_predi_labels)[0]) \n",
    "    difference_score = len(difference_indexes) / right_labels.size \n",
    "    difference_scores.append(difference_score) \n",
    "    \n",
    "    counter += 1\n",
    "    print(\"%d iter: the difference ratio: %.3f  with mutation ratio: %.2f\" % (counter, difference_score, mutation_ratio))\n",
    "    prev_gen_test_cases = gen_test_cases\n",
    "    additional_test_cases = test_datas[np.nonzero(right_labels-mutant_predi_labels)[0]]\n",
    "    gen_test_cases = np.unique(np.append(gen_test_cases, additional_test_cases,axis = 0), axis=0) # difference_indexes is indices of test cases with differences        \n",
    "    print(\" test cases + %d\\n\" % (gen_test_cases.shape[0] - prev_gen_test_cases.shape[0]))\n",
    "\n",
    "print(\"now there are %d test cases\" % gen_test_cases.shape[0])  \n",
    "    "
   ]
  },
  {
   "cell_type": "code",
   "execution_count": 16,
   "metadata": {
    "colab": {
     "base_uri": "https://localhost:8080/",
     "height": 443
    },
    "colab_type": "code",
    "executionInfo": {
     "elapsed": 454565,
     "status": "ok",
     "timestamp": 1552147619154,
     "user": {
      "displayName": "yh wu",
      "photoUrl": "",
      "userId": "11025832306997972186"
     },
     "user_tz": 0
    },
    "id": "vEGHn3Pk3O_f",
    "outputId": "d926a283-b6bd-4fc1-e48c-be6b167350e1"
   },
   "outputs": [
    {
     "data": {
      "image/png": "[encoded data removed]",
      "text/plain": [
       "<Figure size 432x288 with 1 Axes>"
      ]
     },
     "metadata": {},
     "output_type": "display_data"
    }
   ],
   "source": [
    "plt.title('DF mutation difference')\n",
    "plt.axis([mutation_ratios[0], mutation_ratios[-1], 0, 0.2])\n",
    "plt.plot(mutation_ratios, difference_scores)\n",
    "plt.xlabel('Mutation ratio')\n",
    "plt.ylabel('Differences')\n",
    "plt.show()"
   ]
  },
  {
   "cell_type": "code",
   "execution_count": 17,
   "metadata": {},
   "outputs": [],
   "source": [
    "# # store test cases in to local folder\n",
    "# for index, test_case in enumerate(gen_test_cases):\n",
    "#     imwrite('%s%d_%d.png' % (save_dir, index + 1, right_labels[list(difference_indexes)[index]]), deprocess_image(test_case))"
   ]
  },
  {
   "cell_type": "code",
   "execution_count": 19,
   "metadata": {
    "colab": {
     "base_uri": "https://localhost:8080/",
     "height": 101
    },
    "colab_type": "code",
    "executionInfo": {
     "elapsed": 576358,
     "status": "ok",
     "timestamp": 1552147740959,
     "user": {
      "displayName": "yh wu",
      "photoUrl": "",
      "userId": "11025832306997972186"
     },
     "user_tz": 0
    },
    "id": "susYIXO63O_6",
    "outputId": "c03bab8b-2a34-4b48-a9fa-2fdc38632c90"
   },
   "outputs": [
    {
     "name": "stdout",
     "output_type": "stream",
     "text": [
      "\n",
      "5. NP - Noise Perturb, STD=0.1 mutation operator\n",
      "the 1th DL mutant passes the quality test, with acc 0.975 and 0.30 mutation ratio\n",
      "1 iter: the difference ratio: 0.050  with mutation ratio: 0.30\n",
      " test cases + 1\n",
      "\n",
      "the 2th DL mutant passes the quality test, with acc 0.978 and 0.35 mutation ratio\n",
      "2 iter: the difference ratio: 0.053  with mutation ratio: 0.35\n",
      " test cases + 3\n",
      "\n",
      "now there are 53 test cases\n"
     ]
    }
   ],
   "source": [
    "# 5. NP - Noise Perturb, STD=0.1\n",
    "print(\"\\n5. NP - Noise Perturb, STD=0.1 mutation operator\")\n",
    "STD = 0.1\n",
    "initialize_before_each_mutation()\n",
    "for mutation_ratio in mutation_ratios:\n",
    "    (mutated_datas, mutated_results), mutated_model = source_mut_opts.NP_mut((train_datas, train_labels), model, mutation_ratio, STD=STD)\n",
    "\n",
    "    model = network.compile_model(model)\n",
    "    mutated_model = network.compile_model(mutated_model)\n",
    "    \n",
    "    trained_model = network.train_model(model, train_datas, train_labels)\n",
    "    trained_mutated_model = network.train_model(mutated_model, mutated_datas, mutated_results)\n",
    "  \n",
    "    # quality control of mutant model\n",
    "    mutant_loss, mutant_acc = trained_mutated_model.evaluate(test_datas, test_labels, verbose=False)\n",
    "    if mutant_acc < mutant_accuracy_control_threshold[counter]:\n",
    "      difference_scores.append(0)\n",
    "      counter += 1\n",
    "      print(\"the %dth DL mutant behaves badly, with acc %.3f and %.2f mutation ratio, will be dropped out\\n\" % (counter, mutant_acc, mutation_ratio))\n",
    "      continue\n",
    "    print(\"the %dth DL mutant passes the quality test, with acc %.3f and %.2f mutation ratio\" % (counter + 1, mutant_acc, mutation_ratio))\n",
    "    \n",
    "    # get prediction results\n",
    "    # predictions = trained_model.predict(test_datas)\n",
    "    mutant_predictions = trained_mutated_model.predict(test_datas)\n",
    "    \n",
    "    right_labels = np.argmax(test_labels, axis=1) # right answer\n",
    "    mutant_predi_labels = np.argmax(mutant_predictions, axis = 1)\n",
    "    \n",
    "    #  np.nonzero(right_labels-mutant_predi_labels) is a tuple with only one element: the [0],a numpy array\n",
    "    difference_indexes = difference_indexes | set(np.nonzero(right_labels-mutant_predi_labels)[0]) \n",
    "    difference_score = len(difference_indexes) / right_labels.size \n",
    "    difference_scores.append(difference_score) \n",
    "    \n",
    "    counter += 1\n",
    "    print(\"%d iter: the difference ratio: %.3f  with mutation ratio: %.2f\" % (counter, difference_score, mutation_ratio))\n",
    "    prev_gen_test_cases = gen_test_cases\n",
    "    additional_test_cases = test_datas[np.nonzero(right_labels-mutant_predi_labels)[0]]\n",
    "    gen_test_cases = np.unique(np.append(gen_test_cases, additional_test_cases,axis = 0), axis=0) # difference_indexes is indices of test cases with differences        \n",
    "    print(\" test cases + %d\\n\" % (gen_test_cases.shape[0] - prev_gen_test_cases.shape[0]))\n",
    "\n",
    "print(\"now there are %d test cases\" % gen_test_cases.shape[0])  \n",
    "    "
   ]
  },
  {
   "cell_type": "code",
   "execution_count": null,
   "metadata": {},
   "outputs": [],
   "source": [
    "plt.title('NP with STD = 0.1 mutation difference')\n",
    "plt.axis([mutation_ratios[0], mutation_ratios[-1], 0, 0.2])\n",
    "plt.plot(mutation_ratios, difference_scores)\n",
    "plt.xlabel('Mutation ratio')\n",
    "plt.ylabel('Differences')\n",
    "plt.show()"
   ]
  },
  {
   "cell_type": "code",
   "execution_count": 20,
   "metadata": {
    "colab": {
     "base_uri": "https://localhost:8080/",
     "height": 67
    },
    "colab_type": "code",
    "executionInfo": {
     "elapsed": 693123,
     "status": "ok",
     "timestamp": 1552147857748,
     "user": {
      "displayName": "yh wu",
      "photoUrl": "",
      "userId": "11025832306997972186"
     },
     "user_tz": 0
    },
    "id": "pixzAK0k3PAN",
    "outputId": "85e87a99-83cb-4046-9daa-db7e04350d7b"
   },
   "outputs": [
    {
     "name": "stdout",
     "output_type": "stream",
     "text": [
      "\n",
      "5. NP - Noise Perturb, STD=1 mutation operator\n",
      "the 0th DL mutant passes the quality test, with acc 0.973\n",
      "1 iter: the difference ratio: 0.055  with mutation ratio: 0.30\n",
      " test cases + 2\n",
      "\n",
      "the 1th DL mutant passes the quality test, with acc 0.977\n",
      "2 iter: the difference ratio: 0.059  with mutation ratio: 0.35\n",
      " test cases + 4\n",
      "\n",
      "now there are 59 test cases\n"
     ]
    }
   ],
   "source": [
    "# 5. NP - Noise Perturb, STD = 1\n",
    "print(\"\\n5. NP - Noise Perturb, STD=1 mutation operator\")\n",
    "STD = 1\n",
    "initialize_before_each_mutation()\n",
    "for mutation_ratio in mutation_ratios:\n",
    "    (mutated_datas, mutated_results), mutated_model = source_mut_opts.NP_mut((train_datas, train_labels), model, mutation_ratio, STD=STD)\n",
    "\n",
    "    model = network.compile_model(model)\n",
    "    mutated_model = network.compile_model(mutated_model)\n",
    "    \n",
    "    trained_model = network.train_model(model, train_datas, train_labels)\n",
    "    trained_mutated_model = network.train_model(mutated_model, mutated_datas, mutated_results)\n",
    "    \n",
    "    # quality control of mutant model\n",
    "    mutant_loss, mutant_acc = trained_mutated_model.evaluate(test_datas, test_labels, verbose=False)\n",
    "    if mutant_acc < mutant_accuracy_control_threshold[counter]:\n",
    "      difference_scores.append(0)\n",
    "      counter += 1\n",
    "      print(\"the %dth DL mutant behaves badly, with acc %.3f and %.2f mutation ratio, will be dropped out\\n\" % (counter, mutant_acc, mutation_ratio))\n",
    "      continue\n",
    "    print(\"the %dth DL mutant passes the quality test, with acc %.3f\" % (counter, mutant_acc))\n",
    "    \n",
    "\n",
    "    # get prediction results\n",
    "    # predictions = trained_model.predict(test_datas)\n",
    "    mutant_predictions = trained_mutated_model.predict(test_datas)\n",
    "    \n",
    "    right_labels = np.argmax(test_labels, axis=1) # right answer\n",
    "    mutant_predi_labels = np.argmax(mutant_predictions, axis = 1)\n",
    "    \n",
    "    #  np.nonzero(right_labels-mutant_predi_labels) is a tuple with only one element: the [0],a numpy array\n",
    "    difference_indexes = difference_indexes | set(np.nonzero(right_labels-mutant_predi_labels)[0]) \n",
    "    difference_score = len(difference_indexes) / right_labels.size \n",
    "    difference_scores.append(difference_score) \n",
    "    \n",
    "    counter += 1\n",
    "    print(\"%d iter: the difference ratio: %.3f  with mutation ratio: %.2f\" % (counter, difference_score, mutation_ratio))\n",
    "    prev_gen_test_cases = gen_test_cases\n",
    "    additional_test_cases = test_datas[np.nonzero(right_labels-mutant_predi_labels)[0]]\n",
    "    gen_test_cases = np.unique(np.append(gen_test_cases, additional_test_cases,axis = 0), axis=0) # difference_indexes is indices of test cases with differences        \n",
    "    print(\" test cases + %d\\n\" % (gen_test_cases.shape[0] - prev_gen_test_cases.shape[0]))\n",
    "\n",
    "print(\"now there are %d test cases\" % gen_test_cases.shape[0])  \n",
    "    "
   ]
  },
  {
   "cell_type": "code",
   "execution_count": 21,
   "metadata": {
    "colab": {
     "base_uri": "https://localhost:8080/",
     "height": 443
    },
    "colab_type": "code",
    "executionInfo": {
     "elapsed": 693123,
     "status": "ok",
     "timestamp": 1552147857750,
     "user": {
      "displayName": "yh wu",
      "photoUrl": "",
      "userId": "11025832306997972186"
     },
     "user_tz": 0
    },
    "id": "8YKV1YV73PAa",
    "outputId": "2c8aa77c-5da1-44e4-b846-1f1f4d14b89c"
   },
   "outputs": [
    {
     "data": {
      "image/png": "[encoded data removed]",
      "text/plain": [
       "<Figure size 432x288 with 1 Axes>"
      ]
     },
     "metadata": {},
     "output_type": "display_data"
    }
   ],
   "source": [
    "plt.title('NP with STD = 1 mutation difference')\n",
    "plt.axis([mutation_ratios[0], mutation_ratios[-1], 0, 0.2])\n",
    "plt.plot(mutation_ratios, difference_scores)\n",
    "plt.xlabel('Mutation ratio')\n",
    "plt.ylabel('Differences')\n",
    "plt.show()"
   ]
  },
  {
   "cell_type": "code",
   "execution_count": 22,
   "metadata": {
    "colab": {
     "base_uri": "https://localhost:8080/",
     "height": 67
    },
    "colab_type": "code",
    "executionInfo": {
     "elapsed": 813854,
     "status": "ok",
     "timestamp": 1552147978482,
     "user": {
      "displayName": "yh wu",
      "photoUrl": "",
      "userId": "11025832306997972186"
     },
     "user_tz": 0
    },
    "id": "0VwLizHx3PAk",
    "outputId": "fd98d858-1c29-47bb-a952-a0843e57d967"
   },
   "outputs": [
    {
     "name": "stdout",
     "output_type": "stream",
     "text": [
      "\n",
      "5. NP - Noise Perturb, STD=10 mutation operator\n",
      "the 1th DL mutant passes the quality test, with acc 0.974 and 0.30 mutation ratio\n",
      "1 iter: the difference ratio: 0.064  with mutation ratio: 0.30\n",
      " test cases + 5\n",
      "\n",
      "the 2th DL mutant passes the quality test, with acc 0.961 and 0.35 mutation ratio\n",
      "2 iter: the difference ratio: 0.077  with mutation ratio: 0.35\n",
      " test cases + 13\n",
      "\n",
      "now there are 77 test cases\n"
     ]
    }
   ],
   "source": [
    "# 5. NP - Noise Perturb, STD=10\n",
    "print(\"\\n5. NP - Noise Perturb, STD=10 mutation operator\")\n",
    "STD = 10\n",
    "counter = 0\n",
    "difference_scores = []\n",
    "for mutation_ratio in mutation_ratios:\n",
    "    (mutated_datas, mutated_results), mutated_model = source_mut_opts.NP_mut((train_datas, train_labels), model, mutation_ratio, STD=STD)\n",
    "\n",
    "    model = network.compile_model(model)\n",
    "    mutated_model = network.compile_model(mutated_model)\n",
    "    \n",
    "    trained_model = network.train_model(model, train_datas, train_labels)\n",
    "    trained_mutated_model = network.train_model(mutated_model, mutated_datas, mutated_results)\n",
    "\n",
    "    # quality control of mutant model\n",
    "    mutant_loss, mutant_acc = trained_mutated_model.evaluate(test_datas, test_labels, verbose=False)\n",
    "    if mutant_acc < mutant_accuracy_control_threshold[counter]:\n",
    "      difference_scores.append(0)\n",
    "      counter += 1\n",
    "      print(\"the %dth DL mutant behaves badly, with acc %.3f and %.2f mutation ratio, will be dropped out\\n\" % (counter, mutant_acc, mutation_ratio))\n",
    "      continue\n",
    "    print(\"the %dth DL mutant passes the quality test, with acc %.3f and %.2f mutation ratio\" % (counter + 1, mutant_acc, mutation_ratio))\n",
    "    \n",
    "    # get prediction results\n",
    "    # predictions = trained_model.predict(test_datas)\n",
    "    mutant_predictions = trained_mutated_model.predict(test_datas)\n",
    "    \n",
    "    right_labels = np.argmax(test_labels, axis=1) # right answer\n",
    "    mutant_predi_labels = np.argmax(mutant_predictions, axis = 1)\n",
    "    \n",
    "    #  np.nonzero(right_labels-mutant_predi_labels) is a tuple with only one element: the [0],a numpy array\n",
    "    difference_indexes = difference_indexes | set(np.nonzero(right_labels-mutant_predi_labels)[0]) \n",
    "    difference_score = len(difference_indexes) / right_labels.size \n",
    "    difference_scores.append(difference_score) \n",
    "    \n",
    "    counter += 1\n",
    "    print(\"%d iter: the difference ratio: %.3f  with mutation ratio: %.2f\" % (counter, difference_score, mutation_ratio))\n",
    "    prev_gen_test_cases = gen_test_cases\n",
    "    additional_test_cases = test_datas[np.nonzero(right_labels-mutant_predi_labels)[0]]\n",
    "    gen_test_cases = np.unique(np.append(gen_test_cases, additional_test_cases,axis = 0), axis=0) # difference_indexes is indices of test cases with differences        \n",
    "    print(\" test cases + %d\\n\" % (gen_test_cases.shape[0] - prev_gen_test_cases.shape[0]))\n",
    "\n",
    "print(\"now there are %d test cases\" % gen_test_cases.shape[0])  \n",
    "    "
   ]
  },
  {
   "cell_type": "code",
   "execution_count": 23,
   "metadata": {
    "colab": {
     "base_uri": "https://localhost:8080/",
     "height": 443
    },
    "colab_type": "code",
    "executionInfo": {
     "elapsed": 813856,
     "status": "ok",
     "timestamp": 1552147978484,
     "user": {
      "displayName": "yh wu",
      "photoUrl": "",
      "userId": "11025832306997972186"
     },
     "user_tz": 0
    },
    "id": "30FeUq863PAs",
    "outputId": "ec2530c5-9086-45a4-d697-6473bdaf97e2"
   },
   "outputs": [
    {
     "data": {
      "image/png": "[encoded data removed]",
      "text/plain": [
       "<Figure size 432x288 with 1 Axes>"
      ]
     },
     "metadata": {},
     "output_type": "display_data"
    }
   ],
   "source": [
    "plt.title('NP with STD = 10 mutation difference')\n",
    "plt.axis([mutation_ratios[0], mutation_ratios[-1], 0, 0.2])\n",
    "plt.plot(mutation_ratios, difference_scores)\n",
    "plt.xlabel('Mutation ratio')\n",
    "plt.ylabel('Differences')\n",
    "plt.show()"
   ]
  },
  {
   "cell_type": "code",
   "execution_count": 24,
   "metadata": {
    "colab": {
     "base_uri": "https://localhost:8080/",
     "height": 118
    },
    "colab_type": "code",
    "executionInfo": {
     "elapsed": 939721,
     "status": "ok",
     "timestamp": 1552148104353,
     "user": {
      "displayName": "yh wu",
      "photoUrl": "",
      "userId": "11025832306997972186"
     },
     "user_tz": 0
    },
    "id": "YC2qAkQ_ws0G",
    "outputId": "0fe3d37e-19f1-4f09-ddb3-19e42efbbef3"
   },
   "outputs": [
    {
     "name": "stdout",
     "output_type": "stream",
     "text": [
      "\n",
      "6.LR - Layer Removal mutation operator\n",
      "None of layers be removed\n",
      "LR will only remove the layer with the same input and output\n",
      "However, there is no suitable layer for the input model\n",
      "the 1th DL mutant passes the quality test, with acc 0.971 and 0.30 mutation ratio\n",
      "1 iter: the difference ratio: 0.080  with mutation ratio: 0.30\n",
      " test cases + 3\n",
      "\n",
      "None of layers be removed\n",
      "LR will only remove the layer with the same input and output\n",
      "However, there is no suitable layer for the input model\n",
      "the 2th DL mutant passes the quality test, with acc 0.977 and 0.35 mutation ratio\n",
      "2 iter: the difference ratio: 0.081  with mutation ratio: 0.35\n",
      " test cases + 1\n",
      "\n",
      "now there are 81 test cases\n"
     ]
    }
   ],
   "source": [
    "# Syntax: copied_dataset(实际不变), mutated_model  = source_mut_opts.XX_mut(training_dataset, model)\n",
    "# 6.LR - Layer Removal\n",
    "print(\"\\n6.LR - Layer Removal mutation operator\")\n",
    "counter = 0\n",
    "difference_scores = []\n",
    "for mutation_ratio in mutation_ratios:\n",
    "    (mutated_datas, mutated_results), mutated_model = source_mut_opts.LR_mut((train_datas, train_labels), model)\n",
    "\n",
    "    model = network.compile_model(model)\n",
    "    mutated_model = network.compile_model(mutated_model)\n",
    "    \n",
    "    trained_model = network.train_model(model, train_datas, train_labels)\n",
    "    trained_mutated_model = network.train_model(mutated_model, mutated_datas, mutated_results)\n",
    "\n",
    "    # quality control of mutant model\n",
    "    mutant_loss, mutant_acc = trained_mutated_model.evaluate(test_datas, test_labels, verbose=False)\n",
    "    if mutant_acc < mutant_accuracy_control_threshold[counter]:\n",
    "      difference_scores.append(0)\n",
    "      counter += 1\n",
    "      print(\"the %dth DL mutant behaves badly, with acc %.3f and %.2f mutation ratio, will be dropped out\\n\" % (counter, mutant_acc, mutation_ratio))\n",
    "      continue\n",
    "    print(\"the %dth DL mutant passes the quality test, with acc %.3f and %.2f mutation ratio\" % (counter + 1, mutant_acc, mutation_ratio))\n",
    "    \n",
    "    # get prediction results\n",
    "    # predictions = trained_model.predict(test_datas)\n",
    "    mutant_predictions = trained_mutated_model.predict(test_datas)\n",
    "    \n",
    "    right_labels = np.argmax(test_labels, axis=1) # right answer\n",
    "    mutant_predi_labels = np.argmax(mutant_predictions, axis = 1)\n",
    "    \n",
    "    #  np.nonzero(right_labels-mutant_predi_labels) is a tuple with only one element: the [0],a numpy array\n",
    "    difference_indexes = difference_indexes | set(np.nonzero(right_labels-mutant_predi_labels)[0]) \n",
    "    difference_score = len(difference_indexes) / right_labels.size \n",
    "    difference_scores.append(difference_score) \n",
    "    \n",
    "    counter += 1\n",
    "    print(\"%d iter: the difference ratio: %.3f  with mutation ratio: %.2f\" % (counter, difference_score, mutation_ratio))\n",
    "    prev_gen_test_cases = gen_test_cases\n",
    "    additional_test_cases = test_datas[np.nonzero(right_labels-mutant_predi_labels)[0]]\n",
    "    gen_test_cases = np.unique(np.append(gen_test_cases, additional_test_cases,axis = 0), axis=0) # difference_indexes is indices of test cases with differences        \n",
    "    print(\" test cases + %d\\n\" % (gen_test_cases.shape[0] - prev_gen_test_cases.shape[0]))\n",
    "\n",
    "print(\"now there are %d test cases\" % gen_test_cases.shape[0])  "
   ]
  },
  {
   "cell_type": "code",
   "execution_count": 25,
   "metadata": {
    "colab": {
     "base_uri": "https://localhost:8080/",
     "height": 443
    },
    "colab_type": "code",
    "executionInfo": {
     "elapsed": 940196,
     "status": "ok",
     "timestamp": 1552148104829,
     "user": {
      "displayName": "yh wu",
      "photoUrl": "",
      "userId": "11025832306997972186"
     },
     "user_tz": 0
    },
    "id": "wvtUD6Lt2RN6",
    "outputId": "7784b47d-c118-4714-e200-735fc013f059"
   },
   "outputs": [
    {
     "data": {
      "image/png": "[encoded data removed]",
      "text/plain": [
       "<Figure size 432x288 with 1 Axes>"
      ]
     },
     "metadata": {},
     "output_type": "display_data"
    }
   ],
   "source": [
    "plt.title('LR - Layer Removal')\n",
    "plt.axis([mutation_ratios[0], mutation_ratios[-1], 0, 0.2])\n",
    "plt.plot(mutation_ratios, difference_scores)\n",
    "plt.xlabel('Mutation ratio')\n",
    "plt.ylabel('Differences')\n",
    "plt.show()"
   ]
  },
  {
   "cell_type": "code",
   "execution_count": 26,
   "metadata": {
    "colab": {
     "base_uri": "https://localhost:8080/",
     "height": 118
    },
    "colab_type": "code",
    "executionInfo": {
     "elapsed": 1075386,
     "status": "ok",
     "timestamp": 1552148240019,
     "user": {
      "displayName": "yh wu",
      "photoUrl": "",
      "userId": "11025832306997972186"
     },
     "user_tz": 0
    },
    "id": "NjU7i8mM5Cqq",
    "outputId": "51fcb2c3-0072-44b2-ba74-3376e8526ac4"
   },
   "outputs": [
    {
     "name": "stdout",
     "output_type": "stream",
     "text": [
      "\n",
      "7. LAs - Layer Addition mutation operator\n",
      "Selected layer by LAs mutation operator 0\n",
      "the 1th DL mutant passes the quality test, with acc 0.973 and 0.30 mutation ratio\n",
      "1 iter: the difference ratio: 0.083  with mutation ratio: 0.30\n",
      " test cases + 2\n",
      "\n",
      "Selected layer by LAs mutation operator 5\n",
      "the 2th DL mutant passes the quality test, with acc 0.974 and 0.35 mutation ratio\n",
      "2 iter: the difference ratio: 0.084  with mutation ratio: 0.35\n",
      " test cases + 1\n",
      "\n",
      "now there are 84 test cases\n"
     ]
    }
   ],
   "source": [
    "# 7. LAs - Layer Addition\n",
    "print(\"\\n7. LAs - Layer Addition mutation operator\")\n",
    "counter = 0\n",
    "difference_scores = []\n",
    "for mutation_ratio in mutation_ratios: \n",
    "    (mutated_datas, mutated_results), mutated_model = source_mut_opts.LAs_mut((train_datas, train_labels), model)\n",
    "\n",
    "    model = network.compile_model(model)\n",
    "    mutated_model = network.compile_model(mutated_model)\n",
    "    \n",
    "    trained_model = network.train_model(model, train_datas, train_labels)\n",
    "    trained_mutated_model = network.train_model(mutated_model, mutated_datas, mutated_results)\n",
    "\n",
    "    # quality control of mutant model\n",
    "    mutant_loss, mutant_acc = trained_mutated_model.evaluate(test_datas, test_labels, verbose=False)\n",
    "    if mutant_acc < mutant_accuracy_control_threshold[counter]:\n",
    "      difference_scores.append(0)\n",
    "      counter += 1\n",
    "      print(\"the %dth DL mutant behaves badly, with acc %.3f and %.2f mutation ratio, will be dropped out\\n\" % (counter, mutant_acc, mutation_ratio))\n",
    "      continue\n",
    "    print(\"the %dth DL mutant passes the quality test, with acc %.3f and %.2f mutation ratio\" % (counter + 1, mutant_acc, mutation_ratio))\n",
    "    \n",
    "    # get prediction results\n",
    "    # predictions = trained_model.predict(test_datas)\n",
    "    mutant_predictions = trained_mutated_model.predict(test_datas)\n",
    "    \n",
    "    right_labels = np.argmax(test_labels, axis=1) # right answer\n",
    "    mutant_predi_labels = np.argmax(mutant_predictions, axis = 1)\n",
    "    \n",
    "    #  np.nonzero(right_labels-mutant_predi_labels) is a tuple with only one element: the [0],a numpy array\n",
    "    difference_indexes = difference_indexes | set(np.nonzero(right_labels-mutant_predi_labels)[0]) \n",
    "    difference_score = len(difference_indexes) / right_labels.size \n",
    "    difference_scores.append(difference_score) \n",
    "    \n",
    "    counter += 1\n",
    "    print(\"%d iter: the difference ratio: %.3f  with mutation ratio: %.2f\" % (counter, difference_score, mutation_ratio))\n",
    "    prev_gen_test_cases = gen_test_cases\n",
    "    additional_test_cases = test_datas[np.nonzero(right_labels-mutant_predi_labels)[0]]\n",
    "    gen_test_cases = np.unique(np.append(gen_test_cases, additional_test_cases,axis = 0), axis=0) # difference_indexes is indices of test cases with differences        \n",
    "    print(\" test cases + %d\\n\" % (gen_test_cases.shape[0] - prev_gen_test_cases.shape[0]))\n",
    "\n",
    "print(\"now there are %d test cases\" % gen_test_cases.shape[0])  "
   ]
  },
  {
   "cell_type": "code",
   "execution_count": 27,
   "metadata": {
    "colab": {
     "base_uri": "https://localhost:8080/",
     "height": 443
    },
    "colab_type": "code",
    "executionInfo": {
     "elapsed": 1075860,
     "status": "ok",
     "timestamp": 1552148240494,
     "user": {
      "displayName": "yh wu",
      "photoUrl": "",
      "userId": "11025832306997972186"
     },
     "user_tz": 0
    },
    "id": "1Do1Ay025Tbm",
    "outputId": "6e6b9060-f33f-4704-fee1-5d055f764a94"
   },
   "outputs": [
    {
     "data": {
      "image/png": "[encoded data removed]",
      "text/plain": [
       "<Figure size 432x288 with 1 Axes>"
      ]
     },
     "metadata": {},
     "output_type": "display_data"
    }
   ],
   "source": [
    "plt.title('LA - Layer Addition')\n",
    "plt.axis([mutation_ratios[0], mutation_ratios[-1], 0, 0.2])\n",
    "plt.plot(mutation_ratios, difference_scores)\n",
    "plt.xlabel('Mutation ratio')\n",
    "plt.ylabel('Differences')\n",
    "plt.show()"
   ]
  },
  {
   "cell_type": "code",
   "execution_count": 28,
   "metadata": {
    "colab": {
     "base_uri": "https://localhost:8080/",
     "height": 118
    },
    "colab_type": "code",
    "executionInfo": {
     "elapsed": 1208479,
     "status": "ok",
     "timestamp": 1552148373114,
     "user": {
      "displayName": "yh wu",
      "photoUrl": "",
      "userId": "11025832306997972186"
     },
     "user_tz": 0
    },
    "id": "1z8zT6Mt5T3m",
    "outputId": "301b3eb6-d396-49c0-e663-c001bdc1b0c0"
   },
   "outputs": [
    {
     "name": "stdout",
     "output_type": "stream",
     "text": [
      "\n",
      "8. AFRs - Activation Function Removal mutation operator\n",
      "Seleced layer by AFRs mutation operator 2\n",
      "the 1th DL mutant passes the quality test, with acc 0.962 and 0.30 mutation ratio\n",
      "1 iter: the difference ratio: 0.091  with mutation ratio: 0.30\n",
      " test cases + 7\n",
      "\n",
      "Seleced layer by AFRs mutation operator 6\n",
      "the 2th DL mutant passes the quality test, with acc 0.966 and 0.35 mutation ratio\n",
      "2 iter: the difference ratio: 0.097  with mutation ratio: 0.35\n",
      " test cases + 6\n",
      "\n",
      "now there are 97 test cases\n"
     ]
    }
   ],
   "source": [
    "# 8. AFRs - Activation Function Removal\n",
    "print(\"\\n8. AFRs - Activation Function Removal mutation operator\")\n",
    "counter = 0\n",
    "difference_scores = []\n",
    "for mutation_ratio in mutation_ratios:\n",
    "    (mutated_datas, mutated_results), mutated_model = source_mut_opts.AFRs_mut((train_datas, train_labels), model)\n",
    "\n",
    "    model = network.compile_model(model)\n",
    "    mutated_model = network.compile_model(mutated_model)\n",
    "    \n",
    "    trained_model = network.train_model(model, train_datas, train_labels)\n",
    "    trained_mutated_model = network.train_model(mutated_model, mutated_datas, mutated_results)\n",
    "\n",
    "    # quality control of mutant model\n",
    "    mutant_loss, mutant_acc = trained_mutated_model.evaluate(test_datas, test_labels, verbose=False)\n",
    "    if mutant_acc < mutant_accuracy_control_threshold[counter]:\n",
    "      difference_scores.append(0)\n",
    "      counter += 1\n",
    "      print(\"the %dth DL mutant behaves badly, with acc %.3f and %.2f mutation ratio, will be dropped out\\n\" % (counter, mutant_acc, mutation_ratio))\n",
    "      continue\n",
    "    print(\"the %dth DL mutant passes the quality test, with acc %.3f and %.2f mutation ratio\" % (counter + 1, mutant_acc, mutation_ratio))\n",
    "    \n",
    "    # get prediction results\n",
    "    # predictions = trained_model.predict(test_datas)\n",
    "    mutant_predictions = trained_mutated_model.predict(test_datas)\n",
    "    \n",
    "    right_labels = np.argmax(test_labels, axis=1) # right answer\n",
    "    mutant_predi_labels = np.argmax(mutant_predictions, axis = 1)\n",
    "    \n",
    "    #  np.nonzero(right_labels-mutant_predi_labels) is a tuple with only one element: the [0],a numpy array\n",
    "    difference_indexes = difference_indexes | set(np.nonzero(right_labels-mutant_predi_labels)[0]) \n",
    "    difference_score = len(difference_indexes) / right_labels.size \n",
    "    difference_scores.append(difference_score) \n",
    "    \n",
    "    counter += 1\n",
    "    print(\"%d iter: the difference ratio: %.3f  with mutation ratio: %.2f\" % (counter, difference_score, mutation_ratio))\n",
    "    prev_gen_test_cases = gen_test_cases\n",
    "    additional_test_cases = test_datas[np.nonzero(right_labels-mutant_predi_labels)[0]]\n",
    "    gen_test_cases = np.unique(np.append(gen_test_cases, additional_test_cases,axis = 0), axis=0) # difference_indexes is indices of test cases with differences        \n",
    "    print(\" test cases + %d\\n\" % (gen_test_cases.shape[0] - prev_gen_test_cases.shape[0]))\n",
    "\n",
    "print(\"now there are %d test cases\" % gen_test_cases.shape[0])  "
   ]
  },
  {
   "cell_type": "code",
   "execution_count": 29,
   "metadata": {
    "colab": {
     "base_uri": "https://localhost:8080/",
     "height": 443
    },
    "colab_type": "code",
    "executionInfo": {
     "elapsed": 1208973,
     "status": "ok",
     "timestamp": 1552148373608,
     "user": {
      "displayName": "yh wu",
      "photoUrl": "",
      "userId": "11025832306997972186"
     },
     "user_tz": 0
    },
    "id": "Eq2RtVFg5XXF",
    "outputId": "29c0551a-b6e3-4300-b1af-ef43949a5f3e"
   },
   "outputs": [
    {
     "data": {
      "image/png": "[encoded data removed]",
      "text/plain": [
       "<Figure size 432x288 with 1 Axes>"
      ]
     },
     "metadata": {},
     "output_type": "display_data"
    }
   ],
   "source": [
    "plt.title('Activation Function Removal')\n",
    "plt.axis([mutation_ratios[0], mutation_ratios[-1], 0, 0.2])\n",
    "plt.plot(mutation_ratios, difference_scores)\n",
    "plt.xlabel('Mutation ratio')\n",
    "plt.ylabel('Differences')\n",
    "plt.show()"
   ]
  },
  {
   "cell_type": "code",
   "execution_count": 30,
   "metadata": {},
   "outputs": [],
   "source": [
    "# store test cases in to local folder\n",
    "for index, test_case in enumerate(gen_test_cases):\n",
    "    imwrite('%s%d_%d.png' % (save_dir, index + 1, right_labels[list(difference_indexes)[index]]), deprocess_image(test_case))"
   ]
  }
 ],
 "metadata": {
  "accelerator": "GPU",
  "colab": {
   "collapsed_sections": [],
   "name": "Copy of visualization_of_experiments_SMO_FC.ipynb",
   "provenance": [],
   "version": "0.3.2"
  },
  "kernelspec": {
   "display_name": "Python 3",
   "language": "python",
   "name": "python3"
  },
  "language_info": {
   "codemirror_mode": {
    "name": "ipython",
    "version": 3
   },
   "file_extension": ".py",
   "mimetype": "text/x-python",
   "name": "python",
   "nbconvert_exporter": "python",
   "pygments_lexer": "ipython3",
   "version": "3.7.1"
  }
 },
 "nbformat": 4,
 "nbformat_minor": 1
}
