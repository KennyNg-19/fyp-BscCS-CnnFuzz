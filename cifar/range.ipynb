{
 "cells": [
  {
   "cell_type": "code",
   "execution_count": 1,
   "metadata": {},
   "outputs": [],
   "source": []
  },
  {
   "cell_type": "code",
   "execution_count": 7,
   "metadata": {},
   "outputs": [],
   "source": [
    "\n"
   ]
  },
  {
   "cell_type": "code",
   "execution_count": null,
   "metadata": {},
   "outputs": [],
   "source": [
    "from keras.datasets import cifar10\n",
    "\n",
    "(train_datas, train_labels), (test_datas, test_labels) = cifar10.load_data()\n",
    "\n",
    "train_datas = train_datas.astype('float32')\n",
    "train_datas /= 255\n",
    "\n",
    "print('train_datas shape:', train_datas.shape)"
   ]
  },
  {
   "cell_type": "code",
   "execution_count": null,
   "metadata": {},
   "outputs": [],
   "source": []
  },
  {
   "cell_type": "code",
   "execution_count": null,
   "metadata": {},
   "outputs": [],
   "source": [
    "# init_neuron_values\n",
    "from utils_tmp import *\n",
    "from keras.models import load_model\n",
    "\n",
    "\n",
    "\n",
    "modelName = \"Model4\"\n",
    "model = load_model(\"%s.h5\" % modelName)\n",
    "model_neuron_values = init_neuron_values(model)\n",
    "        \n",
    "img_height, img_width = 32, 32\n",
    "img_channels_num = 3\n",
    "\n",
    "for i, single_training_example in enumerate(train_datas[:10000]):\n",
    "    if i % 500 == 0:\n",
    "        print(i)\n",
    "    update_neuron_value(single_training_example.reshape(1, img_height, img_width, img_channels_num),\\\n",
    "                            model, model_neuron_values)\n"
   ]
  },
  {
   "cell_type": "code",
   "execution_count": null,
   "metadata": {},
   "outputs": [],
   "source": [
    "import numpy as np\n",
    "\n",
    "# Save\n",
    "\n",
    "np.save('%s_neuron_ranges.npy' % modelName, model_neuron_values) \n",
    "\n",
    "\n",
    "read_dictionary = np.load('%s_neuron_ranges.npy' % modelName).item()\n",
    "model_neuron_values"
   ]
  },
  {
   "cell_type": "code",
   "execution_count": null,
   "metadata": {},
   "outputs": [],
   "source": []
  },
  {
   "cell_type": "code",
   "execution_count": null,
   "metadata": {},
   "outputs": [],
   "source": [
    "import os  \n",
    "import numpy as np\n",
    "\n",
    "def load_file(file):\n",
    "    if os.path.isdir(file):\n",
    "        return np.load(file).item()\n",
    "    else:\n",
    "        print('No %s exists' % file)\n",
    "        os._exit(0)\n"
   ]
  }
 ],
 "metadata": {
  "kernelspec": {
   "display_name": "Python 3",
   "language": "python",
   "name": "python3"
  },
  "language_info": {
   "codemirror_mode": {
    "name": "ipython",
    "version": 3
   },
   "file_extension": ".py",
   "mimetype": "text/x-python",
   "name": "python",
   "nbconvert_exporter": "python",
   "pygments_lexer": "ipython3",
   "version": "3.6.3"
  }
 },
 "nbformat": 4,
 "nbformat_minor": 2
}
